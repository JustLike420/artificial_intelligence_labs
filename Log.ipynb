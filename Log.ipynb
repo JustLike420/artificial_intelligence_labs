{
  "metadata": {
    "kernelspec": {
      "language": "python",
      "display_name": "Python 3",
      "name": "python3"
    },
    "language_info": {
      "pygments_lexer": "ipython3",
      "nbconvert_exporter": "python",
      "version": "3.6.4",
      "file_extension": ".py",
      "codemirror_mode": {
        "name": "ipython",
        "version": 3
      },
      "name": "python",
      "mimetype": "text/x-python"
    },
    "colab": {
      "provenance": [],
      "collapsed_sections": [
        "Eo1OcTPYg4bB",
        "WYlD-Uk6g4bB",
        "r924813Ug4bC"
      ]
    }
  },
  "nbformat_minor": 0,
  "nbformat": 4,
  "cells": [
    {
      "cell_type": "markdown",
      "source": [
        "Имеется датасет, полученный в ходе исследования факторов, способных повлиять на депрессию людей, живущих в сельской местности. Задача модели ML --- научиться определять склонность к депрессии (0 --- не страдает, 1 --- страдает). Это типичная задача **бинарной классификации**. Hассмотрим одну из популярных моделей для этой задачи --- логистическую регрессию."
      ],
      "metadata": {
        "id": "DYy_orDNg4a4"
      }
    },
    {
      "cell_type": "markdown",
      "source": [
        "# Логистическая регрессия\n",
        "\n",
        "\n",
        "Так сложилось, что в задачах бинарной классификации мы большее значение придаём тому, чтобы научиться определять класс 1, нежели класс 0. Класс 1 представляет собой в каком-то смысле \"редкое\" событие: письмо со спамом, неплатёжеспособность клиента, наличие заболевания, склонность к депрессии. Будем называть его \"положительным\" классом, а класс 0 --- \"отрицательным\". Во многих ситуациях нам важнее знать **оценку вероятности** того, что объект попадёт в положительный класс (вероятность невозврата кредита, вероятность заболевания, вероятность склонности к депрессии). Тогда, задавая различные пороги для этой вероятности (в зависимости от задачи), мы будем таким образом разделять объекты.\n",
        "\n",
        "Обозначим вероятность положительного события через $P_+$. Очевидно, что вероятность противоположного класса тогда равна $(1-P_+)$. Составим величину, называемую odds ratio (\"отношение шансов\"):\n",
        "\n",
        "$$\n",
        "OR = \\frac{P_+}{1-P_+}.\n",
        "$$\n",
        "\n",
        "$OR$ показывает отношение вероятностей того, произойдёт наше событие или не произойдёт. При этом величины $P_+$ и $OR$ содержат, по сути, одинаковую информацию. Но если $P_+\\in(0; 1)$, то $OR\\in(0; +\\infty)$. Если теперь рассмотреть величину логарифма отношения шансов $\\log OR$, то мы придём к тому, что $\\log OR\\in(-\\infty; +\\infty)$. И вот мы получили, что можем прогнозировать **вероятность**, прогнозируя величину, лежащую от минус до плюс бесконечности! А эту величину можно предсказывать с помощью **регрессионной модели**. \n",
        "\n",
        "## Сигма-функция\n",
        "\n",
        "Пусть теперь мы прогнозируем $\\log OR$ с помощью линейной регрессии: $\\log OR=\\mathbf{w}^T\\mathbf{x}$. Как из этой величины получить $P_+$?\n",
        "\n",
        "$$\n",
        "P_+ = \\frac{OR}{1+OR} = \\frac{e^{\\log OR}}{1+e^{\\log OR}}=\\frac{e^{\\mathbf{w}^T\\mathbf{x}}}{1+e^{\\mathbf{w}^T\\mathbf{x}}}=\\frac{1}{1+e^{-\\mathbf{w}^T\\mathbf{x}}}.\n",
        "$$\n",
        "\n",
        "Интересно, что мы получили здесь довольно важную функцию в машинном обучении (нет, на этот раз не логарифм :)):\n",
        "\n",
        "$$\n",
        "\\sigma(z) = \\frac{1}{1+e^{-z}},\n",
        "$$\n",
        "\n",
        "называемую сигма-функцией, или сигмоидой, или **логистической функцией**. Она ведёт себя так:\n",
        "![](https://www.researchgate.net/profile/John_Davis82/publication/234049070/figure/fig6/AS:300093912698893@1448559372458/Logistic-sigmoid-function-Maps-real-numbers-to-the-interval-between-0-and-1.png)\n",
        "\n",
        "Итак, $P_+=\\sigma(\\mathbf{w}^T\\mathbf{x})$. Это важный результат.\n",
        "\n",
        "Тем самым, с помощью логистической регрессии мы будем прогнозировать **вероятность принадлежности объекта к классу 1**.\n",
        "\n",
        "## LogLoss, или логистическая функция потерь\n",
        "\n",
        "Следующий важный момент: **как считать ошибку модели в случае бинарной классификации**? Иными словами, как выбрать функцию потерь и составить функционал качества?\n",
        "\n",
        "Вновь вспомним принцип максимального правдоподобия. Только что мы получили, что\n",
        "\n",
        "$$\n",
        "P_+ = P(y=1 | \\mathbf{x}_i, \\mathbf{w}) = \\sigma(\\mathbf{w}^T\\mathbf{x}).\n",
        "$$\n",
        "\n",
        "Но тогда\n",
        "\n",
        "$$\n",
        "P_- = P(y=-1 | \\mathbf{x}_i, \\mathbf{w}) = 1 - P_+ = 1 - \\sigma(\\mathbf{w}^T\\mathbf{x}_i).\n",
        "$$\n",
        "\n",
        "Здесь мы обозначили класс \"0\" как \"-1\" для удобства выкладок. Далее можно заметить (проверьте!), что $1 - \\sigma(\\mathbf{w}^T\\mathbf{x}_i)=\\sigma(-\\mathbf{w}^T\\mathbf{x}_i)$: первое из поразительных свойств сигмоиды --- то ли ещё будет! Учитывая последнее, можно записать **общую формулу** для вероятности:\n",
        "\n",
        "$$\n",
        "P(y=y_i | \\mathbf{x}_i, \\mathbf{w}) = \\sigma(y_i\\mathbf{w}^T\\mathbf{x}_i).\n",
        "$$\n",
        "\n",
        "Тогда вероятность всей выборки (взятой независимо и из одного распределения) запишется как произведение вероятностей:\n",
        "\n",
        "$$\n",
        "P(\\mathbf{y}|\\mathbf{X}, \\mathbf{w}) = \\prod_{i=1}^{l} P(y=y_i | \\mathbf{x}_i, \\mathbf{w}).\n",
        "$$\n",
        "\n",
        "Это **функция правдоподобия выборки**. Её нужно максимизировать. Как обычно, вместо максимизации произведения множества слагаемых нам бы хотелось максимизировать сумму. Поэтому возьмём логарифм правдоподобия:\n",
        "\n",
        "$$\n",
        "\\begin{multline*}\n",
        "\\log P(\\mathbf{y}|\\mathbf{X}, \\mathbf{w}) = \\log \\prod_{i=1}^{l} P(y=y_i | \\mathbf{x}_i, \\mathbf{w}) = \n",
        "\\sum_{i=1}^{l} \\log P(y=y_i | \\mathbf{x}_i, \\mathbf{w}) = \\\\\n",
        "=\\sum_{i=1}^{l} \\log \\sigma(y_i\\mathbf{w}^T\\mathbf{x}_i) = \\sum_{i=1}^{l} \\log \\frac{1}{1+e^{-y_i\\mathbf{w}^T\\mathbf{x}_i}}=-\\sum_{i=1}^{l}\\log \\left(1+e^{-y_i\\mathbf{w}^T\\mathbf{x}_i}\\right) \\to \\max\\limits_\\mathbf{w},\n",
        "\\end{multline*}\n",
        "$$\n",
        "\n",
        "то есть максимизация прадоподобия эквивалентна минимизации функционала\n",
        "\n",
        "$$\n",
        "Q(\\mathbf{w}) = \\sum_{i=1}^{l}\\log \\left(1+e^{-y_i\\mathbf{w}^T\\mathbf{x}_i}\\right) \\to \\min\\limits_\\mathbf{w}.\n",
        "$$\n",
        "\n",
        "Последний функционал под знаком суммы содежит **логистическую функцию потерь**, или лог-лосс: $L_{log}(z)=\\log(1+e^{-z})$. Её график выглядит следующим образом:\n",
        "![](https://www.researchgate.net/profile/Thomas_Hofmann10/publication/2877976/figure/fig1/AS:650449568923660@1532090670890/Loss-values-of-0-1-exp-and-log-loss-functions-in-a-binary-classification-problem.png)\n",
        "\n",
        "и мажорирует обычную пороговую функцию потерь:\n",
        "$$\n",
        "L(y, \\widehat{y}) = \\begin{cases}0, & \\text{if } y=\\widehat{y}, \\\\ 1, & \\text{if } y\\neq\\widehat{y}. \\end{cases}\n",
        "$$\n",
        "\n",
        "Итак, мы только что показали, что, с точки зрения статистики и метода максимального правдоподобия, **оптимальным выбором функции потерь** для логистической регрессии является **лог-лосс**, или **логистическая функция потерь**. Минимизируя лог-лосс, мы тем самым уменьшаем число ошибок классификации.\n",
        "\n",
        "## Регуляризация логистической регрессии\n",
        "\n",
        "В моделях логистической регрессии, как и в линейной регрессии, используют разные типы **регуляризации** ($L_1$, $L_2$, Elastic Net) для уменьшения переобучения модели. Функционал качества в случае $L_2$-регуляризации выглядит так:\n",
        "\n",
        "$$\n",
        "Q_{reg}(\\mathbf{w}) = C\\cdot \\sum_{i=1}^{l}\\log \\left(1+e^{-y_i\\mathbf{w}^T\\mathbf{x}_i}\\right)+\\|\\mathbf{w}\\|^2 \\to \\min\\limits_\\mathbf{w}.\n",
        "$$\n",
        "\n",
        "Здесь гиперпараметр $C>0$ играет роль **обратной силы регуляризации**. Чем больше $C$, тем меньше \"штраф\" за увеличение весов модели. И наоборот, чем меньше $C$, тем эффект регуляризации больше."
      ],
      "metadata": {
        "id": "kyG1IzA5g4a5"
      }
    },
    {
      "cell_type": "markdown",
      "source": [
        "## Почему логистическая регрессия --- это линейный классификатор?\n",
        "\n",
        "Мы ещё не обсудили вопрос, почему же рассмотренная нами модель относится к **линейным моделям**. Для этого рассмотрим игрушечный пример с точками на плоскости."
      ],
      "metadata": {
        "id": "3f5mIEj9g4a7"
      }
    },
    {
      "cell_type": "code",
      "source": [
        "import numpy as np\n",
        "import matplotlib.pyplot as plt\n",
        "\n",
        "np.random.seed(0) #задаём начальные условия для генератора псевдослучайных чисел\n",
        "X = np.random.normal(loc=0.5, scale=0.25, size=(100, 2))\n",
        "y = (X[:, 1] > X[:, 0]).astype('int') # разделяющая граница: y=x (биссектриса первой четверти)\n",
        "plt.scatter(X[:, 0], X[:, 1], color=['red' if c==1 else 'blue' for c in y])\n",
        "plt.xlabel('x1')\n",
        "plt.ylabel('x2')\n",
        "plt.show()"
      ],
      "metadata": {
        "_uuid": "d629ff2d2480ee46fbb7e2d37f6b5fab8052498a",
        "_cell_guid": "79c7e3d0-c299-4dcb-8224-4455121ee9b0",
        "trusted": true,
        "id": "nd7TYWUCg4a8",
        "colab": {
          "base_uri": "https://localhost:8080/",
          "height": 279
        },
        "outputId": "ca570068-82b5-4871-a5fb-172750cab319"
      },
      "execution_count": null,
      "outputs": [
        {
          "output_type": "display_data",
          "data": {
            "text/plain": [
              "<Figure size 432x288 with 1 Axes>"
            ],
            "image/png": "[encoded data removed]"
          },
          "metadata": {
            "needs_background": "light"
          }
        }
      ]
    },
    {
      "cell_type": "code",
      "source": [
        "from sklearn.linear_model import LogisticRegression\n",
        "log_reg = LogisticRegression()\n",
        "log_reg.fit(X, y)\n",
        "\n",
        "w = log_reg.coef_\n",
        "bb = log_reg.intercept_\n",
        "\n",
        "print(w, bb)"
      ],
      "metadata": {
        "trusted": true,
        "id": "CxYUyQIzg4a8",
        "colab": {
          "base_uri": "https://localhost:8080/"
        },
        "outputId": "eae81b44-03ea-4058-8e2d-ea6d6bfbe50f"
      },
      "execution_count": null,
      "outputs": [
        {
          "output_type": "stream",
          "name": "stdout",
          "text": [
            "[[-3.29153106  3.02599673]] [0.23181665]\n"
          ]
        }
      ]
    },
    {
      "cell_type": "markdown",
      "source": [
        "Построим разделяющую границу между классами, которую \"выучила\" наша модель. Для этого запишем уравнение\n",
        "$$\n",
        "w_1\\cdot x_1 + w_2\\cdot x_2 + b = 0\n",
        "$$\n",
        "и выразим из него $x_2$ для более привычного построения графика:\n",
        "$$\n",
        "x_2 = -\\frac{w_1}{w_2}x_1-\\frac{b}{w_2}.\n",
        "$$"
      ],
      "metadata": {
        "id": "zqEDf2hhg4a8"
      }
    },
    {
      "cell_type": "code",
      "source": [
        "w1 = w[0][0]\n",
        "w2 = w[0][1]\n",
        "b = bb[0]\n",
        "\n",
        "print('w1 = '+str(w1), '\\nw2 = '+str(w2), '\\nb = '+str(b))"
      ],
      "metadata": {
        "trusted": true,
        "id": "lhJYWldZg4a8",
        "colab": {
          "base_uri": "https://localhost:8080/"
        },
        "outputId": "45c0e6b9-431b-4675-8604-1fff8eb63842"
      },
      "execution_count": null,
      "outputs": [
        {
          "output_type": "stream",
          "name": "stdout",
          "text": [
            "w1 = -3.2915310634294572 \n",
            "w2 = 3.0259967314775613 \n",
            "b = 0.2318166472532856\n"
          ]
        }
      ]
    },
    {
      "cell_type": "code",
      "source": [
        "plt.scatter(X[:, 0], X[:, 1], color=['red' if c==1 else 'blue' for c in y])\n",
        "plt.plot(X[:, 0], -w1/w2*X[:, 0]-b/w2, color='green', linewidth=3, linestyle=\"dashed\")\n",
        "\n",
        "plt.xlabel('x1')\n",
        "plt.ylabel('x2')\n",
        "plt.show()"
      ],
      "metadata": {
        "trusted": true,
        "id": "GoS-TCkag4a9",
        "colab": {
          "base_uri": "https://localhost:8080/",
          "height": 279
        },
        "outputId": "1bb50a18-880f-48cc-a5c5-cca95debf5a7"
      },
      "execution_count": null,
      "outputs": [
        {
          "output_type": "display_data",
          "data": {
            "text/plain": [
              "<Figure size 432x288 with 1 Axes>"
            ],
            "image/png": "[encoded data removed]"
          },
          "metadata": {
            "needs_background": "light"
          }
        }
      ]
    },
    {
      "cell_type": "markdown",
      "source": [
        "Итак, модель логистической регрессии почти идеально восстановила нашу разделяющую границу. А что будет, если разделяющая граница нелинейна?"
      ],
      "metadata": {
        "id": "fWNIduxag4a9"
      }
    },
    {
      "cell_type": "code",
      "source": [
        "yy = ((X[:, 0]-0.5)**2 + (X[:, 1]-0.5)**2 > 0.25**2).astype('int')\n",
        "plt.scatter(X[:, 0], X[:, 1], color=['red' if c==1 else 'blue' for c in yy])\n",
        "plt.xlabel('x1')\n",
        "plt.ylabel('x2')\n",
        "plt.show()"
      ],
      "metadata": {
        "trusted": true,
        "id": "zFz0zrgXg4a9",
        "colab": {
          "base_uri": "https://localhost:8080/",
          "height": 279
        },
        "outputId": "5e9074ec-56f2-4b12-ac11-1738a6843075"
      },
      "execution_count": null,
      "outputs": [
        {
          "output_type": "display_data",
          "data": {
            "text/plain": [
              "<Figure size 432x288 with 1 Axes>"
            ],
            "image/png": "[encoded data removed]"
          },
          "metadata": {
            "needs_background": "light"
          }
        }
      ]
    },
    {
      "cell_type": "markdown",
      "source": [
        "Теперь посмотрим, что выучит наша модель."
      ],
      "metadata": {
        "id": "-ETJPaNug4a9"
      }
    },
    {
      "cell_type": "code",
      "source": [
        "log_reg = LogisticRegression()\n",
        "log_reg.fit(X, yy)\n",
        "\n",
        "w1 = log_reg.coef_[0][0]\n",
        "w2 = log_reg.coef_[0][1]\n",
        "b = log_reg.intercept_[0]\n",
        "\n",
        "plt.scatter(X[:, 0], X[:, 1], color=['red' if c==1 else 'blue' for c in yy])\n",
        "plt.plot(X[:, 0], -w1/w2*X[:, 0]-b/w2, color='green', linewidth=3, linestyle=\"dashed\")\n",
        "plt.xlabel('x1')\n",
        "plt.ylabel('x2')\n",
        "plt.show()"
      ],
      "metadata": {
        "trusted": true,
        "id": "G_2pzTf5g4a-",
        "colab": {
          "base_uri": "https://localhost:8080/",
          "height": 279
        },
        "outputId": "938798b8-053c-4e5a-d838-1445df775ce2"
      },
      "execution_count": null,
      "outputs": [
        {
          "output_type": "display_data",
          "data": {
            "text/plain": [
              "<Figure size 432x288 with 1 Axes>"
            ],
            "image/png": "[encoded data removed]"
          },
          "metadata": {
            "needs_background": "light"
          }
        }
      ]
    },
    {
      "cell_type": "markdown",
      "source": [
        "Как видим, несмотря на изменения в исходных данных, модель по-прежнему \"учит\" только линейную границу между классами, причём в данном случае далеко от идеала.\n",
        "\n",
        "Тем не менее, в многомерных пространствах картинка получается лучше, и даже линейный классификатор способен дать хороший результат. Кроме того, мы можем использовать приём, который называется **\"создание полиномиальных признаков\"**. Это означает, что, помимо $x_1, x_2, \\ldots, x_n$, модель также рассматривает их попарные произведения степени не выше $k$ (в случае $k=2$ это будут $x_1^2$, $x_1x_2$, $x_2^2$) в качестве признаков. Этот приём описан в [статье](https://habr.com/ru/company/ods/blog/323890/) OpenDataScience-сообщества (раздел 4). "
      ],
      "metadata": {
        "id": "lK-UN20cg4a-"
      }
    },
    {
      "cell_type": "markdown",
      "source": [
        "# Логистическая регрессия в действии"
      ],
      "metadata": {
        "id": "TXKRPTaXg4a-"
      }
    },
    {
      "cell_type": "markdown",
      "source": [
        "## Загрузка и препроцессинг"
      ],
      "metadata": {
        "id": "71NH0o-Zg4a-"
      }
    },
    {
      "cell_type": "code",
      "source": [
        "import pandas as pd\n",
        "df = pd.read_csv('/content/accelerometer.csv')\n",
        "\n",
        "df = df.loc[df['y'] != '-']\n",
        "\n",
        "df['y'] = df['y'].astype(float)\n",
        "df.head()"
      ],
      "metadata": {
        "trusted": true,
        "id": "pA59I_Kzg4a-",
        "colab": {
          "base_uri": "https://localhost:8080/",
          "height": 206
        },
        "outputId": "e3e01dc5-e337-4c48-b82c-e28faa4d421a"
      },
      "execution_count": null,
      "outputs": [
        {
          "output_type": "execute_result",
          "data": {
            "text/plain": [
              "   wconfid  pctid      x      y      z\n",
              "0        1     20  1.004  0.090 -0.125\n",
              "1        1     20  1.004 -0.043 -0.125\n",
              "2        1     20  0.969  0.090 -0.121\n",
              "3        1     20  0.973 -0.012 -0.137\n",
              "4        1     20  1.000 -0.016 -0.121"
            ],
            "text/html": [
              "\n",
              "  <div id=\"df-c90fa9c1-5cfa-4d57-b290-d7e4e6db1733\">\n",
              "    <div class=\"colab-df-container\">\n",
              "      <div>\n",
              "<style scoped>\n",
              "    .dataframe tbody tr th:only-of-type {\n",
              "        vertical-align: middle;\n",
              "    }\n",
              "\n",
              "    .dataframe tbody tr th {\n",
              "        vertical-align: top;\n",
              "    }\n",
              "\n",
              "    .dataframe thead th {\n",
              "        text-align: right;\n",
              "    }\n",
              "</style>\n",
              "<table border=\"1\" class=\"dataframe\">\n",
              "  <thead>\n",
              "    <tr style=\"text-align: right;\">\n",
              "      <th></th>\n",
              "      <th>wconfid</th>\n",
              "      <th>pctid</th>\n",
              "      <th>x</th>\n",
              "      <th>y</th>\n",
              "      <th>z</th>\n",
              "    </tr>\n",
              "  </thead>\n",
              "  <tbody>\n",
              "    <tr>\n",
              "      <th>0</th>\n",
              "      <td>1</td>\n",
              "      <td>20</td>\n",
              "      <td>1.004</td>\n",
              "      <td>0.090</td>\n",
              "      <td>-0.125</td>\n",
              "    </tr>\n",
              "    <tr>\n",
              "      <th>1</th>\n",
              "      <td>1</td>\n",
              "      <td>20</td>\n",
              "      <td>1.004</td>\n",
              "      <td>-0.043</td>\n",
              "      <td>-0.125</td>\n",
              "    </tr>\n",
              "    <tr>\n",
              "      <th>2</th>\n",
              "      <td>1</td>\n",
              "      <td>20</td>\n",
              "      <td>0.969</td>\n",
              "      <td>0.090</td>\n",
              "      <td>-0.121</td>\n",
              "    </tr>\n",
              "    <tr>\n",
              "      <th>3</th>\n",
              "      <td>1</td>\n",
              "      <td>20</td>\n",
              "      <td>0.973</td>\n",
              "      <td>-0.012</td>\n",
              "      <td>-0.137</td>\n",
              "    </tr>\n",
              "    <tr>\n",
              "      <th>4</th>\n",
              "      <td>1</td>\n",
              "      <td>20</td>\n",
              "      <td>1.000</td>\n",
              "      <td>-0.016</td>\n",
              "      <td>-0.121</td>\n",
              "    </tr>\n",
              "  </tbody>\n",
              "</table>\n",
              "</div>\n",
              "      <button class=\"colab-df-convert\" onclick=\"convertToInteractive('df-c90fa9c1-5cfa-4d57-b290-d7e4e6db1733')\"\n",
              "              title=\"Convert this dataframe to an interactive table.\"\n",
              "              style=\"display:none;\">\n",
              "        \n",
              "  <svg xmlns=\"http://www.w3.org/2000/svg\" height=\"24px\"viewBox=\"0 0 24 24\"\n",
              "       width=\"24px\">\n",
              "    <path d=\"M0 0h24v24H0V0z\" fill=\"none\"/>\n",
              "    <path d=\"M18.56 5.44l.94 2.06.94-2.06 2.06-.94-2.06-.94-.94-2.06-.94 2.06-2.06.94zm-11 1L8.5 8.5l.94-2.06 2.06-.94-2.06-.94L8.5 2.5l-.94 2.06-2.06.94zm10 10l.94 2.06.94-2.06 2.06-.94-2.06-.94-.94-2.06-.94 2.06-2.06.94z\"/><path d=\"M17.41 7.96l-1.37-1.37c-.4-.4-.92-.59-1.43-.59-.52 0-1.04.2-1.43.59L10.3 9.45l-7.72 7.72c-.78.78-.78 2.05 0 2.83L4 21.41c.39.39.9.59 1.41.59.51 0 1.02-.2 1.41-.59l7.78-7.78 2.81-2.81c.8-.78.8-2.07 0-2.86zM5.41 20L4 18.59l7.72-7.72 1.47 1.35L5.41 20z\"/>\n",
              "  </svg>\n",
              "      </button>\n",
              "      \n",
              "  <style>\n",
              "    .colab-df-container {\n",
              "      display:flex;\n",
              "      flex-wrap:wrap;\n",
              "      gap: 12px;\n",
              "    }\n",
              "\n",
              "    .colab-df-convert {\n",
              "      background-color: #E8F0FE;\n",
              "      border: none;\n",
              "      border-radius: 50%;\n",
              "      cursor: pointer;\n",
              "      display: none;\n",
              "      fill: #1967D2;\n",
              "      height: 32px;\n",
              "      padding: 0 0 0 0;\n",
              "      width: 32px;\n",
              "    }\n",
              "\n",
              "    .colab-df-convert:hover {\n",
              "      background-color: #E2EBFA;\n",
              "      box-shadow: 0px 1px 2px rgba(60, 64, 67, 0.3), 0px 1px 3px 1px rgba(60, 64, 67, 0.15);\n",
              "      fill: #174EA6;\n",
              "    }\n",
              "\n",
              "    [theme=dark] .colab-df-convert {\n",
              "      background-color: #3B4455;\n",
              "      fill: #D2E3FC;\n",
              "    }\n",
              "\n",
              "    [theme=dark] .colab-df-convert:hover {\n",
              "      background-color: #434B5C;\n",
              "      box-shadow: 0px 1px 3px 1px rgba(0, 0, 0, 0.15);\n",
              "      filter: drop-shadow(0px 1px 2px rgba(0, 0, 0, 0.3));\n",
              "      fill: #FFFFFF;\n",
              "    }\n",
              "  </style>\n",
              "\n",
              "      <script>\n",
              "        const buttonEl =\n",
              "          document.querySelector('#df-c90fa9c1-5cfa-4d57-b290-d7e4e6db1733 button.colab-df-convert');\n",
              "        buttonEl.style.display =\n",
              "          google.colab.kernel.accessAllowed ? 'block' : 'none';\n",
              "\n",
              "        async function convertToInteractive(key) {\n",
              "          const element = document.querySelector('#df-c90fa9c1-5cfa-4d57-b290-d7e4e6db1733');\n",
              "          const dataTable =\n",
              "            await google.colab.kernel.invokeFunction('convertToInteractive',\n",
              "                                                     [key], {});\n",
              "          if (!dataTable) return;\n",
              "\n",
              "          const docLinkHtml = 'Like what you see? Visit the ' +\n",
              "            '<a target=\"_blank\" href=https://colab.research.google.com/notebooks/data_table.ipynb>data table notebook</a>'\n",
              "            + ' to learn more about interactive tables.';\n",
              "          element.innerHTML = '';\n",
              "          dataTable['output_type'] = 'display_data';\n",
              "          await google.colab.output.renderOutput(dataTable, element);\n",
              "          const docLink = document.createElement('div');\n",
              "          docLink.innerHTML = docLinkHtml;\n",
              "          element.appendChild(docLink);\n",
              "        }\n",
              "      </script>\n",
              "    </div>\n",
              "  </div>\n",
              "  "
            ]
          },
          "metadata": {},
          "execution_count": 96
        }
      ]
    },
    {
      "cell_type": "code",
      "source": [
        "df.info()"
      ],
      "metadata": {
        "trusted": true,
        "id": "xOm32tLag4a-",
        "colab": {
          "base_uri": "https://localhost:8080/"
        },
        "outputId": "6e0c0760-1e38-425c-906e-442bffe162b2"
      },
      "execution_count": null,
      "outputs": [
        {
          "output_type": "stream",
          "name": "stdout",
          "text": [
            "<class 'pandas.core.frame.DataFrame'>\n",
            "Int64Index: 86195 entries, 0 to 86194\n",
            "Data columns (total 5 columns):\n",
            " #   Column   Non-Null Count  Dtype  \n",
            "---  ------   --------------  -----  \n",
            " 0   wconfid  86195 non-null  int64  \n",
            " 1   pctid    86195 non-null  int64  \n",
            " 2   x        86195 non-null  float64\n",
            " 3   y        86195 non-null  float64\n",
            " 4   z        86195 non-null  float64\n",
            "dtypes: float64(3), int64(2)\n",
            "memory usage: 3.9 MB\n"
          ]
        }
      ]
    },
    {
      "cell_type": "code",
      "source": [
        "df.nunique()"
      ],
      "metadata": {
        "trusted": true,
        "id": "fUBDUHwgg4a_",
        "colab": {
          "base_uri": "https://localhost:8080/"
        },
        "outputId": "1dcd6f81-85be-4532-acdf-32016c8c8a5d"
      },
      "execution_count": null,
      "outputs": [
        {
          "output_type": "execute_result",
          "data": {
            "text/plain": [
              "wconfid       2\n",
              "pctid        17\n",
              "x          2512\n",
              "y          2513\n",
              "z          1706\n",
              "dtype: int64"
            ]
          },
          "metadata": {},
          "execution_count": 98
        }
      ]
    },
    {
      "cell_type": "markdown",
      "source": [
        "Все столбцы числовые, однако данные всё ещё не готовы к построению модели. Нам необходимо:\n",
        "* убрать пропуски (в столбце **no_lasting_investmen**);\n",
        "* убрать лишний признак **Survey_id** (номер опроса);\n",
        "* перевести категориальные признаки в бинарные (get_dummies);\n",
        "* стандартизировать признаки с неудобным масштабом."
      ],
      "metadata": {
        "id": "Hs08nXL8g4a_"
      }
    },
    {
      "cell_type": "code",
      "source": [
        "\n",
        "df_1 = df.dropna() #удаляем пропуски во всей таблице\n",
        "\n",
        "# df_1 = df_1.loc[df['wconfid'] != 2]\n",
        "\n",
        "# df_2 = df_1.drop(['Survey_id', 'depressed'], axis=1) #удаляем ненужные столбцы\n",
        "\n",
        "# Переведём признаки \"Номер виллы\" и \"Уровень образования\" в бинарные \n",
        "# * мы не уверены на 100 %, что уровень образования ранговый, поэтому считаем его категориальным\n",
        "# df_3 = pd.get_dummies(df_2, columns=['Ville_id', 'education_level'])\n",
        "\n",
        "# Масштабирование\n",
        "col_names = df.columns.values #это имена всех столбцов\n",
        "# large_numbers = [col for col in col_names if df[col].mean() > 10000] #имена тех, у кого среднее > 10000\n",
        "from sklearn.preprocessing import MinMaxScaler\n",
        "y = df_1['wconfid']\n",
        "scaler = MinMaxScaler()\n",
        "X_st = scaler.fit_transform(df_1)\n",
        "\n",
        "\n",
        "# # Переприсвоим старым колонкам новые\n",
        "# df_3[large_numbers] = X_st\n",
        "df_3 = pd.DataFrame(X_st)\n",
        "df_3.head()\n",
        "# df_3.head()"
      ],
      "metadata": {
        "trusted": true,
        "id": "udHe3Ermg4a_",
        "colab": {
          "base_uri": "https://localhost:8080/",
          "height": 206
        },
        "outputId": "f75d8535-ca84-42fe-bf4c-43ee21d6f813"
      },
      "execution_count": null,
      "outputs": [
        {
          "output_type": "execute_result",
          "data": {
            "text/plain": [
              "     0    1         2         3         4\n",
              "0  0.0  0.0  0.562891  0.505751  0.528778\n",
              "1  0.0  0.0  0.562891  0.497437  0.528778\n",
              "2  0.0  0.0  0.560703  0.505751  0.529146\n",
              "3  0.0  0.0  0.560953  0.499375  0.527673\n",
              "4  0.0  0.0  0.562641  0.499125  0.529146"
            ],
            "text/html": [
              "\n",
              "  <div id=\"df-8abfe880-1a20-4605-bc93-40640351453b\">\n",
              "    <div class=\"colab-df-container\">\n",
              "      <div>\n",
              "<style scoped>\n",
              "    .dataframe tbody tr th:only-of-type {\n",
              "        vertical-align: middle;\n",
              "    }\n",
              "\n",
              "    .dataframe tbody tr th {\n",
              "        vertical-align: top;\n",
              "    }\n",
              "\n",
              "    .dataframe thead th {\n",
              "        text-align: right;\n",
              "    }\n",
              "</style>\n",
              "<table border=\"1\" class=\"dataframe\">\n",
              "  <thead>\n",
              "    <tr style=\"text-align: right;\">\n",
              "      <th></th>\n",
              "      <th>0</th>\n",
              "      <th>1</th>\n",
              "      <th>2</th>\n",
              "      <th>3</th>\n",
              "      <th>4</th>\n",
              "    </tr>\n",
              "  </thead>\n",
              "  <tbody>\n",
              "    <tr>\n",
              "      <th>0</th>\n",
              "      <td>0.0</td>\n",
              "      <td>0.0</td>\n",
              "      <td>0.562891</td>\n",
              "      <td>0.505751</td>\n",
              "      <td>0.528778</td>\n",
              "    </tr>\n",
              "    <tr>\n",
              "      <th>1</th>\n",
              "      <td>0.0</td>\n",
              "      <td>0.0</td>\n",
              "      <td>0.562891</td>\n",
              "      <td>0.497437</td>\n",
              "      <td>0.528778</td>\n",
              "    </tr>\n",
              "    <tr>\n",
              "      <th>2</th>\n",
              "      <td>0.0</td>\n",
              "      <td>0.0</td>\n",
              "      <td>0.560703</td>\n",
              "      <td>0.505751</td>\n",
              "      <td>0.529146</td>\n",
              "    </tr>\n",
              "    <tr>\n",
              "      <th>3</th>\n",
              "      <td>0.0</td>\n",
              "      <td>0.0</td>\n",
              "      <td>0.560953</td>\n",
              "      <td>0.499375</td>\n",
              "      <td>0.527673</td>\n",
              "    </tr>\n",
              "    <tr>\n",
              "      <th>4</th>\n",
              "      <td>0.0</td>\n",
              "      <td>0.0</td>\n",
              "      <td>0.562641</td>\n",
              "      <td>0.499125</td>\n",
              "      <td>0.529146</td>\n",
              "    </tr>\n",
              "  </tbody>\n",
              "</table>\n",
              "</div>\n",
              "      <button class=\"colab-df-convert\" onclick=\"convertToInteractive('df-8abfe880-1a20-4605-bc93-40640351453b')\"\n",
              "              title=\"Convert this dataframe to an interactive table.\"\n",
              "              style=\"display:none;\">\n",
              "        \n",
              "  <svg xmlns=\"http://www.w3.org/2000/svg\" height=\"24px\"viewBox=\"0 0 24 24\"\n",
              "       width=\"24px\">\n",
              "    <path d=\"M0 0h24v24H0V0z\" fill=\"none\"/>\n",
              "    <path d=\"M18.56 5.44l.94 2.06.94-2.06 2.06-.94-2.06-.94-.94-2.06-.94 2.06-2.06.94zm-11 1L8.5 8.5l.94-2.06 2.06-.94-2.06-.94L8.5 2.5l-.94 2.06-2.06.94zm10 10l.94 2.06.94-2.06 2.06-.94-2.06-.94-.94-2.06-.94 2.06-2.06.94z\"/><path d=\"M17.41 7.96l-1.37-1.37c-.4-.4-.92-.59-1.43-.59-.52 0-1.04.2-1.43.59L10.3 9.45l-7.72 7.72c-.78.78-.78 2.05 0 2.83L4 21.41c.39.39.9.59 1.41.59.51 0 1.02-.2 1.41-.59l7.78-7.78 2.81-2.81c.8-.78.8-2.07 0-2.86zM5.41 20L4 18.59l7.72-7.72 1.47 1.35L5.41 20z\"/>\n",
              "  </svg>\n",
              "      </button>\n",
              "      \n",
              "  <style>\n",
              "    .colab-df-container {\n",
              "      display:flex;\n",
              "      flex-wrap:wrap;\n",
              "      gap: 12px;\n",
              "    }\n",
              "\n",
              "    .colab-df-convert {\n",
              "      background-color: #E8F0FE;\n",
              "      border: none;\n",
              "      border-radius: 50%;\n",
              "      cursor: pointer;\n",
              "      display: none;\n",
              "      fill: #1967D2;\n",
              "      height: 32px;\n",
              "      padding: 0 0 0 0;\n",
              "      width: 32px;\n",
              "    }\n",
              "\n",
              "    .colab-df-convert:hover {\n",
              "      background-color: #E2EBFA;\n",
              "      box-shadow: 0px 1px 2px rgba(60, 64, 67, 0.3), 0px 1px 3px 1px rgba(60, 64, 67, 0.15);\n",
              "      fill: #174EA6;\n",
              "    }\n",
              "\n",
              "    [theme=dark] .colab-df-convert {\n",
              "      background-color: #3B4455;\n",
              "      fill: #D2E3FC;\n",
              "    }\n",
              "\n",
              "    [theme=dark] .colab-df-convert:hover {\n",
              "      background-color: #434B5C;\n",
              "      box-shadow: 0px 1px 3px 1px rgba(0, 0, 0, 0.15);\n",
              "      filter: drop-shadow(0px 1px 2px rgba(0, 0, 0, 0.3));\n",
              "      fill: #FFFFFF;\n",
              "    }\n",
              "  </style>\n",
              "\n",
              "      <script>\n",
              "        const buttonEl =\n",
              "          document.querySelector('#df-8abfe880-1a20-4605-bc93-40640351453b button.colab-df-convert');\n",
              "        buttonEl.style.display =\n",
              "          google.colab.kernel.accessAllowed ? 'block' : 'none';\n",
              "\n",
              "        async function convertToInteractive(key) {\n",
              "          const element = document.querySelector('#df-8abfe880-1a20-4605-bc93-40640351453b');\n",
              "          const dataTable =\n",
              "            await google.colab.kernel.invokeFunction('convertToInteractive',\n",
              "                                                     [key], {});\n",
              "          if (!dataTable) return;\n",
              "\n",
              "          const docLinkHtml = 'Like what you see? Visit the ' +\n",
              "            '<a target=\"_blank\" href=https://colab.research.google.com/notebooks/data_table.ipynb>data table notebook</a>'\n",
              "            + ' to learn more about interactive tables.';\n",
              "          element.innerHTML = '';\n",
              "          dataTable['output_type'] = 'display_data';\n",
              "          await google.colab.output.renderOutput(dataTable, element);\n",
              "          const docLink = document.createElement('div');\n",
              "          docLink.innerHTML = docLinkHtml;\n",
              "          element.appendChild(docLink);\n",
              "        }\n",
              "      </script>\n",
              "    </div>\n",
              "  </div>\n",
              "  "
            ]
          },
          "metadata": {},
          "execution_count": 99
        }
      ]
    },
    {
      "cell_type": "markdown",
      "source": [
        "## Построение модели и валидация"
      ],
      "metadata": {
        "id": "44J2DXXXg4a_"
      }
    },
    {
      "cell_type": "code",
      "source": [
        "\n",
        "X = df_3.drop(0, axis=1)\n",
        "print(df_3)\n",
        "\n",
        "from sklearn.model_selection import train_test_split\n",
        "X_train, X_valid, y_train, y_valid = train_test_split(X, y, test_size=0.25, random_state=0)"
      ],
      "metadata": {
        "trusted": true,
        "id": "KXYyfezpg4a_",
        "colab": {
          "base_uri": "https://localhost:8080/"
        },
        "outputId": "61c53951-e322-4e89-f654-a2311176ed6c"
      },
      "execution_count": null,
      "outputs": [
        {
          "output_type": "stream",
          "name": "stdout",
          "text": [
            "         0       1         2         3         4\n",
            "0      0.0  0.0000  0.562891  0.505751  0.528778\n",
            "1      0.0  0.0000  0.562891  0.497437  0.528778\n",
            "2      0.0  0.0000  0.560703  0.505751  0.529146\n",
            "3      0.0  0.0000  0.560953  0.499375  0.527673\n",
            "4      0.0  0.0000  0.562641  0.499125  0.529146\n",
            "...    ...     ...       ...       ...       ...\n",
            "86190  1.0  0.6875  0.546512  0.444924  0.584860\n",
            "86191  1.0  0.6875  0.582396  0.542386  0.451791\n",
            "86192  1.0  0.6875  0.570705  0.521380  0.535593\n",
            "86193  1.0  0.6875  0.565829  0.512066  0.566535\n",
            "86194  1.0  0.6875  0.557264  0.472993  0.533106\n",
            "\n",
            "[86195 rows x 5 columns]\n"
          ]
        }
      ]
    },
    {
      "cell_type": "code",
      "source": [
        "log_reg = LogisticRegression()\n",
        "log_reg.fit(X_train, y_train)\n",
        "y_pred = log_reg.predict(X_valid)\n",
        "\n",
        "from sklearn.metrics import accuracy_score\n",
        "print(accuracy_score(y_valid, y_pred))"
      ],
      "metadata": {
        "trusted": true,
        "id": "JSe-H5KSg4bA",
        "colab": {
          "base_uri": "https://localhost:8080/"
        },
        "outputId": "bc922edd-98f9-44c1-e157-4483df176f35"
      },
      "execution_count": null,
      "outputs": [
        {
          "output_type": "stream",
          "name": "stdout",
          "text": [
            "0.5884727829597661\n"
          ]
        }
      ]
    },
    {
      "cell_type": "markdown",
      "source": [
        "## Метрики на основе confusion matrix\n",
        "\n",
        "Разберёмся, так ли хороша наша модель, как кажется (accuracy=84.7 %). Для начала посмотрим на соотношение классов в задаче."
      ],
      "metadata": {
        "id": "3gLR_IE0g4bA"
      }
    },
    {
      "cell_type": "code",
      "source": [
        "y.value_counts(normalize=True)"
      ],
      "metadata": {
        "trusted": true,
        "id": "4nWRRZ5cg4bA",
        "colab": {
          "base_uri": "https://localhost:8080/"
        },
        "outputId": "a3398b1b-858f-4ec6-8a21-ef83a033903d"
      },
      "execution_count": null,
      "outputs": [
        {
          "output_type": "execute_result",
          "data": {
            "text/plain": [
              "1    0.591682\n",
              "2    0.408318\n",
              "Name: wconfid, dtype: float64"
            ]
          },
          "metadata": {},
          "execution_count": 102
        }
      ]
    },
    {
      "cell_type": "code",
      "source": [
        "y.value_counts(normalize=True).plot(kind='barh')\n",
        "plt.show()"
      ],
      "metadata": {
        "trusted": true,
        "id": "yWuC9RiSg4bA",
        "colab": {
          "base_uri": "https://localhost:8080/",
          "height": 265
        },
        "outputId": "02369825-fa56-4ef3-d092-8dcc996f2765"
      },
      "execution_count": null,
      "outputs": [
        {
          "output_type": "display_data",
          "data": {
            "text/plain": [
              "<Figure size 432x288 with 1 Axes>"
            ],
            "image/png": "[encoded data removed]"
          },
          "metadata": {
            "needs_background": "light"
          }
        }
      ]
    },
    {
      "cell_type": "markdown",
      "source": [
        "Мы видим, что объектов класса 0 в выборке значительно больше (83.3 %), чем объектов класса 1. Если бы мы решили построить константный классификатор, который предсказывает 0 ВСЕГДА, то accuracy такого классификатора была бы примерно 83.3 %. Из этого можно сделать вывод, что accuracy --- далеко не лучший выбор метрики качества для случая несбалансированных классов.\n",
        "\n",
        "Какие же есть альтернативы? Прежде всего, это матрица ошибок (confusion_matrix). В ней по строкам расположены истинные значения классов, а по столбцам --- предсказанные моделью. Их обычно обзначают так:\n",
        "$$\n",
        "\\text{Confusion_Matrix}=\n",
        "\\begin{array}{c|cc} \n",
        "& \\text{0_pred} & \\text{1_pred} \\\\ \\hline\n",
        "\\text{0_true} & TN & FP \\\\ \n",
        "\\text{1_true} & FN & TP\\end{array}\n",
        "$$\n",
        "\n",
        "Здесь:\n",
        "* $TN$ --- True Negative (правильный отрицательный) --- количество объектов класса 0, которые модель опознала верно;\n",
        "* $TP$ --- True Positive (правильный положительный) --- количество объектов класса 1, которые модель опознала верно;\n",
        "* $FP$ --- False Positive (ложный положительный) --- количество объектов класса 0, которые модель ошибочно отнесла к классу 1;\n",
        "* $FN$ --- False Negative (ложный отрицательный) --- количество объектов класса 1, которые модель ошибочно отнесла к классу 0.\n",
        "\n",
        "В идеальном случае данная матрица содержит нули вне главной диагонали. На практике же, в зависимости от задачи, мы бы хотели **минимизировать** значения $FN$ либо $FP$. К примеру, в задаче обнаружения спама нам бы не хотелось, чтобы модель помечала как спам нормальные письма, т. е. хотим как можно меньше **ложных срабатываний** (False Positive). В задаче же медицинской диагностики куда важнее не пропустить больных (т. е. нужно минимизировать **пропуски класса 1**, False Negative).\n",
        "\n",
        "Построим такую матрицу в нашей задаче обнаружения склонности к депрессии."
      ],
      "metadata": {
        "id": "ncrZ-I_8g4bA"
      }
    },
    {
      "cell_type": "code",
      "source": [
        "from sklearn.metrics import confusion_matrix, plot_confusion_matrix\n",
        "print(confusion_matrix(y_valid, y_pred))"
      ],
      "metadata": {
        "trusted": true,
        "id": "Dqvqh2bCg4bB",
        "colab": {
          "base_uri": "https://localhost:8080/"
        },
        "outputId": "b6ab357a-d2a8-41ea-a113-f940594fe339"
      },
      "execution_count": null,
      "outputs": [
        {
          "output_type": "stream",
          "name": "stdout",
          "text": [
            "[[9617 2994]\n",
            " [5874 3064]]\n"
          ]
        }
      ]
    },
    {
      "cell_type": "code",
      "source": [
        "plot_confusion_matrix(log_reg, X_valid, y_valid, values_format='5g')\n",
        "plt.show()"
      ],
      "metadata": {
        "trusted": true,
        "id": "23EXxFrUg4bB",
        "colab": {
          "base_uri": "https://localhost:8080/",
          "height": 334
        },
        "outputId": "3f0d3d2e-a188-4f82-8d7c-5ed9fe6c97b9"
      },
      "execution_count": null,
      "outputs": [
        {
          "output_type": "stream",
          "name": "stderr",
          "text": [
            "/usr/local/lib/python3.8/dist-packages/sklearn/utils/deprecation.py:87: FutureWarning: Function plot_confusion_matrix is deprecated; Function `plot_confusion_matrix` is deprecated in 1.0 and will be removed in 1.2. Use one of the class methods: ConfusionMatrixDisplay.from_predictions or ConfusionMatrixDisplay.from_estimator.\n",
            "  warnings.warn(msg, category=FutureWarning)\n"
          ]
        },
        {
          "output_type": "display_data",
          "data": {
            "text/plain": [
              "<Figure size 432x288 with 2 Axes>"
            ],
            "image/png": "[encoded data removed]"
          },
          "metadata": {
            "needs_background": "light"
          }
        }
      ]
    },
    {
      "cell_type": "markdown",
      "source": [
        "Итак, наша модель определяет 4 человек как склонных к депрессии (в то время как они \"здоровы\"), а также 50 человек помечает \"здоровыми\", в то время как они склонны к депрессии. Последнее обстоятельство явно не очень хорошо. Ведь всего у нас было 52 случая склонности к депрессии, из которых модель сумела найти только два!"
      ],
      "metadata": {
        "id": "lmKurmPYg4bB"
      }
    },
    {
      "cell_type": "markdown",
      "source": [
        "### Точность, полнота и F-мера\n",
        "\n",
        "На основе матрицы ошибок можно построить следующие три метрики, каждая из которых лучше отображает результаты классификации для несбалансированных классов. Это **точность** (precision), **полнота** (recall) и **F-мера** (f1_score).\n",
        "\n",
        "$$\n",
        "\\text{Confusion_Matrix}=\n",
        "\\begin{array}{c|cc} \n",
        "& \\text{0_pred} & \\text{1_pred} \\\\ \\hline\n",
        "\\text{0_true} & TN & FP \\\\ \n",
        "\\text{1_true} & FN & TP\\end{array}\n",
        "$$\n",
        "\n",
        "* $\\text{Precision}=\\dfrac{TP}{TP+FP}$: показывает, насколько можно \"доверять\" модели, если она показала класс 1;\n",
        "* $\\text{Recall}=\\dfrac{TP}{TP+FN}$: показывает, как хорошо модель умеет находить класс 1;\n",
        "* $F_1=\\dfrac{2\\cdot \\text{Precision}\\cdot \\text{Recall}}{\\text{Precision}+\\text{Recall}}$: гармоническое среднее между точностью и полнотой.\n",
        "\n",
        "Таким образом, \n",
        "* если мы хотим минимизировать $FP$, то лучше в качестве метрики брать precision;\n",
        "* если мы хотим минимизировать $FN$, то лучше в качестве метрики брать recall;\n",
        "* если мы сомневаемся или хотим минимизировать оба значения, лучше подойдёт f1_score."
      ],
      "metadata": {
        "id": "Eo1OcTPYg4bB"
      }
    },
    {
      "cell_type": "code",
      "source": [
        "from sklearn.metrics import precision_score, recall_score, f1_score\n",
        "print('Precision:', precision_score(y_valid, y_pred))\n",
        "print('Recall:', recall_score(y_valid, y_pred))\n",
        "print('F1 score:', f1_score(y_valid, y_pred))"
      ],
      "metadata": {
        "trusted": true,
        "id": "1_PRyk8fg4bB",
        "colab": {
          "base_uri": "https://localhost:8080/"
        },
        "outputId": "e7b921b6-7748-42cc-ddc9-dffbfbcb7385"
      },
      "execution_count": null,
      "outputs": [
        {
          "output_type": "stream",
          "name": "stdout",
          "text": [
            "Precision: 0.6208120844361242\n",
            "Recall: 0.76258821663627\n",
            "F1 score: 0.6844352715109246\n"
          ]
        }
      ]
    },
    {
      "cell_type": "markdown",
      "source": [
        "## Настройка гиперпараметров логистической регрессии по f1_score\n",
        "\n",
        "Попробуем настроить параметр C (силу регуляризации) для каждого типа регуляризации."
      ],
      "metadata": {
        "id": "1H6V2ZcKg4bB"
      }
    },
    {
      "cell_type": "markdown",
      "source": [
        "### Регуляризация L2 (по умолчанию)"
      ],
      "metadata": {
        "id": "WYlD-Uk6g4bB"
      }
    },
    {
      "cell_type": "code",
      "source": [
        "from sklearn.model_selection import GridSearchCV\n",
        "\n",
        "log_reg = LogisticRegression(solver='liblinear')\n",
        "\n",
        "C_values = {'C': np.logspace(-3, 3, 10)}\n",
        "logreg_grid = GridSearchCV(log_reg, C_values, cv=5, scoring='f1')\n",
        "logreg_grid.fit(X_train, y_train)"
      ],
      "metadata": {
        "trusted": true,
        "id": "MunK5OFbg4bC",
        "colab": {
          "base_uri": "https://localhost:8080/"
        },
        "outputId": "fd08a863-a5ee-48f3-f593-1e2074b58738"
      },
      "execution_count": null,
      "outputs": [
        {
          "output_type": "execute_result",
          "data": {
            "text/plain": [
              "GridSearchCV(cv=5, estimator=LogisticRegression(solver='liblinear'),\n",
              "             param_grid={'C': array([1.00000000e-03, 4.64158883e-03, 2.15443469e-02, 1.00000000e-01,\n",
              "       4.64158883e-01, 2.15443469e+00, 1.00000000e+01, 4.64158883e+01,\n",
              "       2.15443469e+02, 1.00000000e+03])},\n",
              "             scoring='f1')"
            ]
          },
          "metadata": {},
          "execution_count": 107
        }
      ]
    },
    {
      "cell_type": "code",
      "source": [
        "print(logreg_grid.best_params_)\n",
        "print(logreg_grid.best_score_)"
      ],
      "metadata": {
        "trusted": true,
        "id": "O8PsQTmEg4bC",
        "colab": {
          "base_uri": "https://localhost:8080/"
        },
        "outputId": "5d44f58b-07de-4c0e-c64a-3ef793e42e7e"
      },
      "execution_count": null,
      "outputs": [
        {
          "output_type": "stream",
          "name": "stdout",
          "text": [
            "{'C': 0.001}\n",
            "0.7335547857595005\n"
          ]
        }
      ]
    },
    {
      "cell_type": "code",
      "source": [
        "results_df = pd.DataFrame(logreg_grid.cv_results_)\n",
        "plt.plot(results_df['param_C'], results_df['mean_test_score'])\n",
        "\n",
        "# Подписываем оси и график\n",
        "plt.xlabel('C')\n",
        "plt.ylabel('Test accuracy')\n",
        "plt.title('Validation curve')\n",
        "plt.show()"
      ],
      "metadata": {
        "trusted": true,
        "id": "MkypMSTug4bC",
        "colab": {
          "base_uri": "https://localhost:8080/",
          "height": 295
        },
        "outputId": "1f3c5c0f-40ba-472f-a611-b1a5c5def43d"
      },
      "execution_count": null,
      "outputs": [
        {
          "output_type": "display_data",
          "data": {
            "text/plain": [
              "<Figure size 432x288 with 1 Axes>"
            ],
            "image/png": "[encoded data removed]"
          },
          "metadata": {
            "needs_background": "light"
          }
        }
      ]
    },
    {
      "cell_type": "markdown",
      "source": [
        "### Регуляризация L1"
      ],
      "metadata": {
        "id": "r924813Ug4bC"
      }
    },
    {
      "cell_type": "code",
      "source": [
        "log_reg = LogisticRegression(solver='liblinear', penalty='l1')\n",
        "\n",
        "C_values = {'C': np.logspace(-3, 3, 10)}\n",
        "logreg_grid = GridSearchCV(log_reg, C_values, cv=5, scoring='f1')\n",
        "logreg_grid.fit(X_train, y_train)"
      ],
      "metadata": {
        "trusted": true,
        "id": "hRGUh15Bg4bC",
        "colab": {
          "base_uri": "https://localhost:8080/"
        },
        "outputId": "ed563a96-2f19-4882-d275-095c991b0f9f"
      },
      "execution_count": null,
      "outputs": [
        {
          "output_type": "execute_result",
          "data": {
            "text/plain": [
              "GridSearchCV(cv=5,\n",
              "             estimator=LogisticRegression(penalty='l1', solver='liblinear'),\n",
              "             param_grid={'C': array([1.00000000e-03, 4.64158883e-03, 2.15443469e-02, 1.00000000e-01,\n",
              "       4.64158883e-01, 2.15443469e+00, 1.00000000e+01, 4.64158883e+01,\n",
              "       2.15443469e+02, 1.00000000e+03])},\n",
              "             scoring='f1')"
            ]
          },
          "metadata": {},
          "execution_count": 110
        }
      ]
    },
    {
      "cell_type": "code",
      "source": [
        "print(logreg_grid.best_params_)\n",
        "print(logreg_grid.best_score_)"
      ],
      "metadata": {
        "trusted": true,
        "id": "pLcR9wxZg4bC",
        "colab": {
          "base_uri": "https://localhost:8080/"
        },
        "outputId": "185e23d4-ed5a-49a6-f571-d67e7f7c87e2"
      },
      "execution_count": null,
      "outputs": [
        {
          "output_type": "stream",
          "name": "stdout",
          "text": [
            "{'C': 0.001}\n",
            "0.7451642643302201\n"
          ]
        }
      ]
    },
    {
      "cell_type": "code",
      "source": [
        "results_df = pd.DataFrame(logreg_grid.cv_results_)\n",
        "plt.plot(results_df['param_C'], results_df['mean_test_score'])\n",
        "\n",
        "# Подписываем оси и график\n",
        "plt.xlabel('C')\n",
        "plt.ylabel('Test accuracy')\n",
        "plt.title('Validation curve')\n",
        "plt.show()"
      ],
      "metadata": {
        "trusted": true,
        "id": "PpuOczgXg4bD",
        "colab": {
          "base_uri": "https://localhost:8080/",
          "height": 295
        },
        "outputId": "238b2088-e900-4ed9-e6a1-2415d1c7a039"
      },
      "execution_count": null,
      "outputs": [
        {
          "output_type": "display_data",
          "data": {
            "text/plain": [
              "<Figure size 432x288 with 1 Axes>"
            ],
            "image/png": "[encoded data removed]"
          },
          "metadata": {
            "needs_background": "light"
          }
        }
      ]
    },
    {
      "cell_type": "code",
      "source": [
        "y_pred = logreg_grid.best_estimator_.predict(X_valid)\n",
        "print(confusion_matrix(y_valid, y_pred))\n",
        "print('F1 score valid:', f1_score(y_valid, y_pred))"
      ],
      "metadata": {
        "trusted": true,
        "id": "BVXMJqrmg4bD",
        "colab": {
          "base_uri": "https://localhost:8080/"
        },
        "outputId": "f2a58f3f-3e9c-4735-c98e-3dec208b4b05"
      },
      "execution_count": null,
      "outputs": [
        {
          "output_type": "stream",
          "name": "stdout",
          "text": [
            "[[12611     0]\n",
            " [ 8938     0]]\n",
            "F1 score valid: 0.7383489461358314\n"
          ]
        }
      ]
    },
    {
      "cell_type": "markdown",
      "source": [
        "Стала ли наша модель лучше? Однозначно сказать трудно :)\n",
        "\n",
        "Однако уже понятно, что модель недообучена (слабый результат на train + слабый результат на valid). Возможно, в неё стоит добавить полиномиальные фичи. Но тогда возникнет проблема: число признаков больше числа объектов. Другая возможная причина: у нас просто мало данных (всего около 1400 объектов)."
      ],
      "metadata": {
        "id": "oEzsW_slg4bD"
      }
    },
    {
      "cell_type": "markdown",
      "source": [
        "# Попытки улучшить модель"
      ],
      "metadata": {
        "id": "fgdE6HE4g4bD"
      }
    },
    {
      "cell_type": "code",
      "source": [
        "# kNN (не помог)\n",
        "from sklearn.neighbors import KNeighborsClassifier\n",
        "knn = KNeighborsClassifier(n_neighbors=5)\n",
        "knn.fit(X_train, y_train)\n",
        "\n",
        "y_pred = knn.predict(X_valid)\n",
        "print(confusion_matrix(y_valid, y_pred))\n",
        "print('F1 score valid:', f1_score(y_valid, y_pred))"
      ],
      "metadata": {
        "trusted": true,
        "id": "MCsF-FpHg4bD",
        "colab": {
          "base_uri": "https://localhost:8080/"
        },
        "outputId": "a7f9a45e-2fe1-48b3-c429-3a0569668154"
      },
      "execution_count": null,
      "outputs": [
        {
          "output_type": "stream",
          "name": "stdout",
          "text": [
            "[[10231  2380]\n",
            " [ 2229  6709]]\n",
            "F1 score valid: 0.8161620996370309\n"
          ]
        }
      ]
    },
    {
      "cell_type": "code",
      "source": [
        "knn_params = {'n_neighbors': np.arange(1, 50, 2)}\n",
        "knn_grid = GridSearchCV(knn, knn_params, cv=5, scoring='f1')\n",
        "knn_grid.fit(X_train, y_train)\n",
        "\n",
        "y_pred = knn_grid.best_estimator_.predict(X_valid)\n",
        "print(confusion_matrix(y_valid, y_pred))\n",
        "print('F1 score valid:', f1_score(y_valid, y_pred))"
      ],
      "metadata": {
        "trusted": true,
        "id": "mIw6D0YPg4bD",
        "colab": {
          "base_uri": "https://localhost:8080/"
        },
        "outputId": "ba715b44-7ef1-4c66-fd9f-0e0f5db37e84"
      },
      "execution_count": null,
      "outputs": [
        {
          "output_type": "stream",
          "name": "stdout",
          "text": [
            "[[10162  2449]\n",
            " [ 1961  6977]]\n",
            "F1 score valid: 0.8217029190587856\n"
          ]
        }
      ]
    },
    {
      "cell_type": "code",
      "source": [
        "# Random Forest (не помог)\n",
        "from sklearn.ensemble import RandomForestClassifier\n",
        "rf = RandomForestClassifier(n_estimators=100)\n",
        "rf.fit(X_train, y_train)\n",
        "\n",
        "y_pred = rf.predict(X_valid)\n",
        "print(confusion_matrix(y_valid, y_pred))\n",
        "print('F1 score valid:', f1_score(y_valid, y_pred))"
      ],
      "metadata": {
        "trusted": true,
        "id": "uLEeBJ7Og4bD",
        "colab": {
          "base_uri": "https://localhost:8080/"
        },
        "outputId": "02c0a44f-f024-4c79-946b-937bffa72d82"
      },
      "execution_count": null,
      "outputs": [
        {
          "output_type": "stream",
          "name": "stdout",
          "text": [
            "[[10208  2403]\n",
            " [ 2388  6550]]\n",
            "F1 score valid: 0.8099337485619075\n"
          ]
        }
      ]
    },
    {
      "cell_type": "code",
      "source": [
        "# Искусственное добавление объектов класса 1\n",
        "\n",
        "from imblearn.over_sampling import RandomOverSampler\n",
        "\n",
        "ros = RandomOverSampler()\n",
        "X_ros, y_ros = ros.fit_resample(X_train, y_train)"
      ],
      "metadata": {
        "trusted": true,
        "id": "tqcE7ERhg4bE"
      },
      "execution_count": null,
      "outputs": []
    },
    {
      "cell_type": "code",
      "source": [
        "# Проверим баланс\n",
        "y_ros.value_counts()"
      ],
      "metadata": {
        "trusted": true,
        "id": "yBC_ZEN5g4bE",
        "colab": {
          "base_uri": "https://localhost:8080/"
        },
        "outputId": "2d30562c-00b2-495a-cb51-e87e0973ed26"
      },
      "execution_count": null,
      "outputs": [
        {
          "output_type": "execute_result",
          "data": {
            "text/plain": [
              "1    38389\n",
              "2    38389\n",
              "Name: wconfid, dtype: int64"
            ]
          },
          "metadata": {},
          "execution_count": 118
        }
      ]
    },
    {
      "cell_type": "code",
      "source": [
        "# Логистическая регрессия с добавлением класса 1\n",
        "logreg_ros = LogisticRegression(solver='liblinear')\n",
        "logreg_ros.fit(X_ros, y_ros)\n",
        "y_pred = logreg_ros.predict(X_valid)\n",
        "\n",
        "print(confusion_matrix(y_valid, y_pred))\n",
        "print('F1 score valid:', f1_score(y_valid, y_pred))"
      ],
      "metadata": {
        "trusted": true,
        "id": "JANYbA_Eg4bE",
        "colab": {
          "base_uri": "https://localhost:8080/"
        },
        "outputId": "f7345df0-9bed-416b-fb25-22591e4aa6aa"
      },
      "execution_count": null,
      "outputs": [
        {
          "output_type": "stream",
          "name": "stdout",
          "text": [
            "[[7402 5209]\n",
            " [3569 5369]]\n",
            "F1 score valid: 0.6277669408871173\n"
          ]
        }
      ]
    },
    {
      "cell_type": "code",
      "source": [
        "# Подбор гиперпараметров\n",
        "logreg_params = {'C': np.logspace(-3, 3, 10), 'penalty': ['l2', 'l1']}\n",
        "logreg_grid = GridSearchCV(logreg_ros, logreg_params, cv=5, scoring='f1')\n",
        "logreg_grid.fit(X_ros, y_ros)\n",
        "\n",
        "y_pred = logreg_grid.best_estimator_.predict(X_valid)\n",
        "print(confusion_matrix(y_valid, y_pred))\n",
        "print('F1 score valid:', f1_score(y_valid, y_pred))"
      ],
      "metadata": {
        "trusted": true,
        "id": "vZzPC9l4g4bE",
        "colab": {
          "base_uri": "https://localhost:8080/"
        },
        "outputId": "331858b2-b9c7-4cd7-dba2-5c4bf8fcaa11"
      },
      "execution_count": null,
      "outputs": [
        {
          "output_type": "stream",
          "name": "stdout",
          "text": [
            "[[8163 4448]\n",
            " [4341 4597]]\n",
            "F1 score valid: 0.6500497710531555\n"
          ]
        }
      ]
    },
    {
      "cell_type": "markdown",
      "source": [
        "# Задание\n",
        "\n",
        "1. Выбрать датасет https://archive.ics.uci.edu/ml/datasets.php\n",
        "2. Показать результаты преподавателю и получить датасет для защиты работы. Защитить нужно на паре в деть получения датасета от преподавателя."
      ],
      "metadata": {
        "id": "0vYRgrrgy2DP"
      }
    },
    {
      "cell_type": "markdown",
      "source": [
        "### Results\n",
        "\n",
        "|             | knn  | knn_grid | rf | logreg_ros        |logreg_grid| log_reg|\n",
        "| ---         | --- | ---       | ---        | ---        |---| --- |\n",
        "| pctid       | 2380 | 10162   | 10208| 8163 |8163| 12611 | 0|\n",
        "| x       | 2380 | 2449   | 2403| 4448 |4448| 0 |\n",
        "| y      | 2229 | 1961    | 2388 | 4341 |4341| 8938 |\n",
        "| z    |6709  | 6977   | 6550| 4597| 4597| 0 |\n",
        "| F1    |0.816162  | 0.821702   | 0.809933|  0.650049|0.650049 | 0.738348|\n"
      ],
      "metadata": {
        "id": "j_6UMNSTTXE_"
      }
    },
    {
      "cell_type": "markdown",
      "source": [],
      "metadata": {
        "id": "4Z9TRMxXRzi4"
      }
    },
    {
      "cell_type": "markdown",
      "source": [
        "# Ссылки:\n",
        "1. https://www.kaggle.com/code/emstrakhov/ml-logistic-regression/notebook\n",
        "2. https://archive.ics.uci.edu/ml/datasets.php\n"
      ],
      "metadata": {
        "id": "GgI90OGKhopk"
      }
    }
  ]
}
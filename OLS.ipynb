{
  "nbformat": 4,
  "nbformat_minor": 0,
  "metadata": {
    "colab": {
      "provenance": []
    },
    "kernelspec": {
      "name": "python3",
      "display_name": "Python 3"
    },
    "language_info": {
      "name": "python"
    }
  },
  "cells": [
    {
      "cell_type": "markdown",
      "source": [
        "# Задание\n",
        "1. Изучить пример, приведенный ниже.\n",
        "2. Получить свой датасет у преподавателя.\n",
        "3. Выбрать числовые признаки и таргет в датасете (признаки делаем числовыми или исключаем их).\n",
        "2. Проанализировать результаты, полученные с помощью statsmodels.\n",
        "3. Построить регрессионную зависимость (sklearn [тык](https://scikit-learn.ru/user_guide/)) с помощью метода наименьших квадратов, используя вычисление обратной матрицы. \n",
        "4. Построить регрессионную зависимость (sklearn) с помощью метода наименьших квадратов, используя метод градиентного спуска. \n",
        "4. Сравнить и описать результаты."
      ],
      "metadata": {
        "id": "JBl74arSKMbs"
      }
    },
    {
      "cell_type": "markdown",
      "source": [
        "# Регрессионный анализ\n",
        "[Wiki](https://ru.wikipedia.org/wiki/%D0%A0%D0%B5%D0%B3%D1%80%D0%B5%D1%81%D1%81%D0%B8%D0%BE%D0%BD%D0%BD%D1%8B%D0%B9_%D0%B0%D0%BD%D0%B0%D0%BB%D0%B8%D0%B7)\n"
      ],
      "metadata": {
        "id": "LHhuJip5l-oY"
      }
    },
    {
      "cell_type": "code",
      "execution_count": null,
      "metadata": {
        "id": "nmfCXTlqhg-P"
      },
      "outputs": [],
      "source": [
        "import matplotlib.pyplot as plt\n",
        "import numpy as np\n",
        "import pandas as pd\n",
        "import scipy as sp\n",
        "import seaborn as sns\n",
        "import statsmodels.api as sm\n",
        "import statsmodels.tsa.api as smt\n",
        "from sklearn.linear_model import LinearRegression\n",
        "from sklearn.model_selection import train_test_split\n",
        "import glob\n",
        "import os\n",
        "from statsmodels.stats.outliers_influence import variance_inflation_factor\n",
        "%matplotlib inline"
      ]
    },
    {
      "cell_type": "markdown",
      "source": [
        "Немного о pandas\n",
        "\n",
        "[Документация](https://pandas.pydata.org/docs/user_guide/index.html#user-guide) \n",
        "\n",
        "[Шпаргалка](https://smysl.io/blog/pandas/) "
      ],
      "metadata": {
        "id": "zbawK26MN_9-"
      }
    },
    {
      "cell_type": "code",
      "source": [
        "#combine all files in the list\n",
        "extension = 'xlsx'\n",
        "all_filenames = [i for i in glob.glob('*.{}'.format(extension))]\n",
        "combined = pd.concat([pd.read_excel(f) for f in all_filenames ])\n",
        "#export to xlsx\n",
        "combined.to_excel(\"/content/combined.xlsx\", index=False, encoding='utf-8-sig')"
      ],
      "metadata": {
        "id": "-c2MmvOMaKzs"
      },
      "execution_count": null,
      "outputs": []
    },
    {
      "cell_type": "code",
      "source": [
        "df = pd.read_excel('/content/combined.xlsx')\n",
        "\n",
        "df['Humidity'] = df['Humidity'].replace([' None'], 0)\n",
        "df['Humidity'] = df['Humidity'].astype(int)\n",
        "\n",
        "df['Temperature'] = df['Temperature'].replace([' None'], 0)\n",
        "df['Temperature'] = df['Temperature'].astype(int)\n",
        "\n",
        "df['Pi'] = df['Pi'].replace({'pi':'', 'Pi': ''}, regex=True)\n",
        "df['Pi'] = df['Pi'].astype(int)\n",
        "\n",
        "dev = df['Device'].unique()\n",
        "print(len(dev))\n",
        "df['Device'] = df['Device'].replace(dev, [i for i in range(1, len(dev)+1)])\n",
        "\n",
        "df['time'] = pd.to_datetime(df['time']).values.astype(np.int64) // 10 ** 9\n",
        "\n",
        "del df['Experiment']"
      ],
      "metadata": {
        "id": "_905-6gShtGg",
        "colab": {
          "base_uri": "https://localhost:8080/"
        },
        "outputId": "62123c98-ab4f-4f10-8028-98db52688845"
      },
      "execution_count": null,
      "outputs": [
        {
          "output_type": "stream",
          "name": "stdout",
          "text": [
            "55\n"
          ]
        }
      ]
    },
    {
      "cell_type": "code",
      "source": [
        "print (\"Total number of rows in dataset = {}\".format(df.shape[0]))\n",
        "print (\"Total number of columns in dataset = {}\".format(df.shape[1]))"
      ],
      "metadata": {
        "id": "jZJhk6ZhhxCU",
        "colab": {
          "base_uri": "https://localhost:8080/"
        },
        "outputId": "32c9623a-5559-443d-b311-eda4f9e0a254"
      },
      "execution_count": null,
      "outputs": [
        {
          "output_type": "stream",
          "name": "stdout",
          "text": [
            "Total number of rows in dataset = 10182\n",
            "Total number of columns in dataset = 5\n"
          ]
        }
      ]
    },
    {
      "cell_type": "code",
      "source": [
        "\n",
        "df.head()"
      ],
      "metadata": {
        "colab": {
          "base_uri": "https://localhost:8080/",
          "height": 206
        },
        "id": "27CSi-tHh1Hw",
        "outputId": "e485b973-b39f-4296-bd7c-089534271a82"
      },
      "execution_count": null,
      "outputs": [
        {
          "output_type": "execute_result",
          "data": {
            "text/plain": [
              "   Device  Humidity  Temperature        time  Pi\n",
              "0       1        20           30  1532087986   4\n",
              "1       1        20           30  1532087993   4\n",
              "2       1        20           30  1532088002   4\n",
              "3       1        20           30  1532088011   4\n",
              "4       1        20           30  1532088018   4"
            ],
            "text/html": [
              "\n",
              "  <div id=\"df-6eb618f9-fedf-43dc-91e3-bc72c0ff2f79\">\n",
              "    <div class=\"colab-df-container\">\n",
              "      <div>\n",
              "<style scoped>\n",
              "    .dataframe tbody tr th:only-of-type {\n",
              "        vertical-align: middle;\n",
              "    }\n",
              "\n",
              "    .dataframe tbody tr th {\n",
              "        vertical-align: top;\n",
              "    }\n",
              "\n",
              "    .dataframe thead th {\n",
              "        text-align: right;\n",
              "    }\n",
              "</style>\n",
              "<table border=\"1\" class=\"dataframe\">\n",
              "  <thead>\n",
              "    <tr style=\"text-align: right;\">\n",
              "      <th></th>\n",
              "      <th>Device</th>\n",
              "      <th>Humidity</th>\n",
              "      <th>Temperature</th>\n",
              "      <th>time</th>\n",
              "      <th>Pi</th>\n",
              "    </tr>\n",
              "  </thead>\n",
              "  <tbody>\n",
              "    <tr>\n",
              "      <th>0</th>\n",
              "      <td>1</td>\n",
              "      <td>20</td>\n",
              "      <td>30</td>\n",
              "      <td>1532087986</td>\n",
              "      <td>4</td>\n",
              "    </tr>\n",
              "    <tr>\n",
              "      <th>1</th>\n",
              "      <td>1</td>\n",
              "      <td>20</td>\n",
              "      <td>30</td>\n",
              "      <td>1532087993</td>\n",
              "      <td>4</td>\n",
              "    </tr>\n",
              "    <tr>\n",
              "      <th>2</th>\n",
              "      <td>1</td>\n",
              "      <td>20</td>\n",
              "      <td>30</td>\n",
              "      <td>1532088002</td>\n",
              "      <td>4</td>\n",
              "    </tr>\n",
              "    <tr>\n",
              "      <th>3</th>\n",
              "      <td>1</td>\n",
              "      <td>20</td>\n",
              "      <td>30</td>\n",
              "      <td>1532088011</td>\n",
              "      <td>4</td>\n",
              "    </tr>\n",
              "    <tr>\n",
              "      <th>4</th>\n",
              "      <td>1</td>\n",
              "      <td>20</td>\n",
              "      <td>30</td>\n",
              "      <td>1532088018</td>\n",
              "      <td>4</td>\n",
              "    </tr>\n",
              "  </tbody>\n",
              "</table>\n",
              "</div>\n",
              "      <button class=\"colab-df-convert\" onclick=\"convertToInteractive('df-6eb618f9-fedf-43dc-91e3-bc72c0ff2f79')\"\n",
              "              title=\"Convert this dataframe to an interactive table.\"\n",
              "              style=\"display:none;\">\n",
              "        \n",
              "  <svg xmlns=\"http://www.w3.org/2000/svg\" height=\"24px\"viewBox=\"0 0 24 24\"\n",
              "       width=\"24px\">\n",
              "    <path d=\"M0 0h24v24H0V0z\" fill=\"none\"/>\n",
              "    <path d=\"M18.56 5.44l.94 2.06.94-2.06 2.06-.94-2.06-.94-.94-2.06-.94 2.06-2.06.94zm-11 1L8.5 8.5l.94-2.06 2.06-.94-2.06-.94L8.5 2.5l-.94 2.06-2.06.94zm10 10l.94 2.06.94-2.06 2.06-.94-2.06-.94-.94-2.06-.94 2.06-2.06.94z\"/><path d=\"M17.41 7.96l-1.37-1.37c-.4-.4-.92-.59-1.43-.59-.52 0-1.04.2-1.43.59L10.3 9.45l-7.72 7.72c-.78.78-.78 2.05 0 2.83L4 21.41c.39.39.9.59 1.41.59.51 0 1.02-.2 1.41-.59l7.78-7.78 2.81-2.81c.8-.78.8-2.07 0-2.86zM5.41 20L4 18.59l7.72-7.72 1.47 1.35L5.41 20z\"/>\n",
              "  </svg>\n",
              "      </button>\n",
              "      \n",
              "  <style>\n",
              "    .colab-df-container {\n",
              "      display:flex;\n",
              "      flex-wrap:wrap;\n",
              "      gap: 12px;\n",
              "    }\n",
              "\n",
              "    .colab-df-convert {\n",
              "      background-color: #E8F0FE;\n",
              "      border: none;\n",
              "      border-radius: 50%;\n",
              "      cursor: pointer;\n",
              "      display: none;\n",
              "      fill: #1967D2;\n",
              "      height: 32px;\n",
              "      padding: 0 0 0 0;\n",
              "      width: 32px;\n",
              "    }\n",
              "\n",
              "    .colab-df-convert:hover {\n",
              "      background-color: #E2EBFA;\n",
              "      box-shadow: 0px 1px 2px rgba(60, 64, 67, 0.3), 0px 1px 3px 1px rgba(60, 64, 67, 0.15);\n",
              "      fill: #174EA6;\n",
              "    }\n",
              "\n",
              "    [theme=dark] .colab-df-convert {\n",
              "      background-color: #3B4455;\n",
              "      fill: #D2E3FC;\n",
              "    }\n",
              "\n",
              "    [theme=dark] .colab-df-convert:hover {\n",
              "      background-color: #434B5C;\n",
              "      box-shadow: 0px 1px 3px 1px rgba(0, 0, 0, 0.15);\n",
              "      filter: drop-shadow(0px 1px 2px rgba(0, 0, 0, 0.3));\n",
              "      fill: #FFFFFF;\n",
              "    }\n",
              "  </style>\n",
              "\n",
              "      <script>\n",
              "        const buttonEl =\n",
              "          document.querySelector('#df-6eb618f9-fedf-43dc-91e3-bc72c0ff2f79 button.colab-df-convert');\n",
              "        buttonEl.style.display =\n",
              "          google.colab.kernel.accessAllowed ? 'block' : 'none';\n",
              "\n",
              "        async function convertToInteractive(key) {\n",
              "          const element = document.querySelector('#df-6eb618f9-fedf-43dc-91e3-bc72c0ff2f79');\n",
              "          const dataTable =\n",
              "            await google.colab.kernel.invokeFunction('convertToInteractive',\n",
              "                                                     [key], {});\n",
              "          if (!dataTable) return;\n",
              "\n",
              "          const docLinkHtml = 'Like what you see? Visit the ' +\n",
              "            '<a target=\"_blank\" href=https://colab.research.google.com/notebooks/data_table.ipynb>data table notebook</a>'\n",
              "            + ' to learn more about interactive tables.';\n",
              "          element.innerHTML = '';\n",
              "          dataTable['output_type'] = 'display_data';\n",
              "          await google.colab.output.renderOutput(dataTable, element);\n",
              "          const docLink = document.createElement('div');\n",
              "          docLink.innerHTML = docLinkHtml;\n",
              "          element.appendChild(docLink);\n",
              "        }\n",
              "      </script>\n",
              "    </div>\n",
              "  </div>\n",
              "  "
            ]
          },
          "metadata": {},
          "execution_count": 5
        }
      ]
    },
    {
      "cell_type": "code",
      "source": [
        "df.info()"
      ],
      "metadata": {
        "id": "Jqn4fUPrLcxF",
        "colab": {
          "base_uri": "https://localhost:8080/"
        },
        "outputId": "2b3556a6-20c4-4324-c2a8-01324efd4d81"
      },
      "execution_count": null,
      "outputs": [
        {
          "output_type": "stream",
          "name": "stdout",
          "text": [
            "<class 'pandas.core.frame.DataFrame'>\n",
            "RangeIndex: 10182 entries, 0 to 10181\n",
            "Data columns (total 5 columns):\n",
            " #   Column       Non-Null Count  Dtype\n",
            "---  ------       --------------  -----\n",
            " 0   Device       10182 non-null  int64\n",
            " 1   Humidity     10182 non-null  int64\n",
            " 2   Temperature  10182 non-null  int64\n",
            " 3   time         10182 non-null  int64\n",
            " 4   Pi           10182 non-null  int64\n",
            "dtypes: int64(5)\n",
            "memory usage: 397.9 KB\n"
          ]
        }
      ]
    },
    {
      "cell_type": "markdown",
      "source": [
        "По df.info() видим, что пустых значений нет. RangeIndex: 200 и Non-Null Count у всех признаков = 200.\n"
      ],
      "metadata": {
        "id": "xX3J8T-lLjnw"
      }
    },
    {
      "cell_type": "code",
      "source": [
        "target_col = \"Humidity\""
      ],
      "metadata": {
        "id": "gw5Rriw7h1x1"
      },
      "execution_count": null,
      "outputs": []
    },
    {
      "cell_type": "code",
      "source": [
        "X = df.loc[:, df.columns != target_col]\n",
        "y = df.loc[:, target_col]"
      ],
      "metadata": {
        "id": "z9-MCfqnh5e_"
      },
      "execution_count": null,
      "outputs": []
    },
    {
      "cell_type": "code",
      "source": [
        "# Split the data into train and test with 70% data being used for training\n",
        "X_train, X_test, y_train, y_test = train_test_split(X, y, \n",
        "                                                    test_size=0.30, \n",
        "                                                    random_state=42)"
      ],
      "metadata": {
        "id": "Q_Oh-mhYh95E"
      },
      "execution_count": null,
      "outputs": []
    },
    {
      "cell_type": "markdown",
      "source": [
        "\n",
        "# Линейная регрессия (statsmodels)\n",
        "\n"
      ],
      "metadata": {
        "id": "SD9TnDGkiA_w"
      }
    },
    {
      "cell_type": "code",
      "source": [
        "X_with_constant = sm.add_constant(X_train)\n",
        "model = sm.OLS(y_train, X_with_constant)"
      ],
      "metadata": {
        "id": "bZ33S9QhiS00",
        "colab": {
          "base_uri": "https://localhost:8080/"
        },
        "outputId": "89f28da1-1376-42e1-cc0b-ec588c2f135a"
      },
      "execution_count": null,
      "outputs": [
        {
          "output_type": "stream",
          "name": "stderr",
          "text": [
            "/usr/local/lib/python3.8/dist-packages/statsmodels/tsa/tsatools.py:142: FutureWarning: In a future version of pandas all arguments of concat except for the argument 'objs' will be keyword-only\n",
            "  x = pd.concat(x[::order], 1)\n"
          ]
        }
      ]
    },
    {
      "cell_type": "code",
      "source": [
        "results = model.fit()\n",
        "results.params"
      ],
      "metadata": {
        "colab": {
          "base_uri": "https://localhost:8080/"
        },
        "id": "IvrWdZYoiVUb",
        "outputId": "2862c414-3bbb-40b6-85be-339d560be279"
      },
      "execution_count": null,
      "outputs": [
        {
          "output_type": "execute_result",
          "data": {
            "text/plain": [
              "const         -1.968659e+02\n",
              "Device         1.398073e-01\n",
              "Temperature   -6.249210e-01\n",
              "time           1.615801e-07\n",
              "Pi            -2.463331e-01\n",
              "dtype: float64"
            ]
          },
          "metadata": {},
          "execution_count": 11
        }
      ]
    },
    {
      "cell_type": "code",
      "source": [
        "print(results.summary())\n"
      ],
      "metadata": {
        "id": "HGlQxUj0iZfI",
        "colab": {
          "base_uri": "https://localhost:8080/"
        },
        "outputId": "47ebb096-f430-4bb6-dbc2-8d9599286bbc"
      },
      "execution_count": null,
      "outputs": [
        {
          "output_type": "stream",
          "name": "stdout",
          "text": [
            "                            OLS Regression Results                            \n",
            "==============================================================================\n",
            "Dep. Variable:               Humidity   R-squared:                       0.422\n",
            "Model:                            OLS   Adj. R-squared:                  0.421\n",
            "Method:                 Least Squares   F-statistic:                     1298.\n",
            "Date:                Mon, 05 Dec 2022   Prob (F-statistic):               0.00\n",
            "Time:                        07:46:58   Log-Likelihood:                -25021.\n",
            "No. Observations:                7127   AIC:                         5.005e+04\n",
            "Df Residuals:                    7122   BIC:                         5.009e+04\n",
            "Df Model:                           4                                         \n",
            "Covariance Type:            nonrobust                                         \n",
            "===============================================================================\n",
            "                  coef    std err          t      P>|t|      [0.025      0.975]\n",
            "-------------------------------------------------------------------------------\n",
            "const        -196.8659     40.532     -4.857      0.000    -276.321    -117.411\n",
            "Device          0.1398      0.007     21.285      0.000       0.127       0.153\n",
            "Temperature    -0.6249      0.014    -43.995      0.000      -0.653      -0.597\n",
            "time         1.616e-07   2.68e-08      6.021      0.000    1.09e-07    2.14e-07\n",
            "Pi             -0.2463      0.093     -2.651      0.008      -0.428      -0.064\n",
            "==============================================================================\n",
            "Omnibus:                     3856.709   Durbin-Watson:                   2.056\n",
            "Prob(Omnibus):                  0.000   Jarque-Bera (JB):            70328.095\n",
            "Skew:                          -2.188   Prob(JB):                         0.00\n",
            "Kurtosis:                      17.754   Cond. No.                     6.44e+11\n",
            "==============================================================================\n",
            "\n",
            "Notes:\n",
            "[1] Standard Errors assume that the covariance matrix of the errors is correctly specified.\n",
            "[2] The condition number is large, 6.44e+11. This might indicate that there are\n",
            "strong multicollinearity or other numerical problems.\n"
          ]
        }
      ]
    },
    {
      "cell_type": "markdown",
      "source": [
        "1. Коэффициенты регрессии модели Y = b0 + b1∙d1 + b2∙d2 + b3∙d3:\n",
        "\n",
        "\n",
        "\n",
        "> Intercept = b0 = 393.9184\n",
        "\n",
        ">b1 = 0.1583\n",
        ">b2 = -0.7072\n",
        ">b3 = -2.272e-07\n",
        ">b4 = 1.1277\n",
        "\n",
        "\n",
        "2. Коэффициент детерминации R-squared =  0.410, его скорректированная оценка Adj. R-squared = 0.410 - это означает, что регрессионная модель объясняет 40% вариации переменной Y.\n",
        "\n",
        "\n",
        "3. Проверка значимости коэффициента детерминации:\n",
        "\n",
        ">расчетное значение статистики критерия Фишера: F-statistic = 1236\n",
        "\n",
        ">расчетный уровень значимости Prob (F-statistic) = 0\n",
        "\n",
        ">так как значение Prob (F-statistic) < 0.05, то нулевая гипотеза R-squared = 0 НЕ ПРИНИМАЕТСЯ, т.е. коэффициент детерминации ЗНАЧИМ\n",
        "\n",
        "4. Проверка значимости коэффициентов регрессии:\n",
        "\n",
        ">расчетный уровень значимости P>|t| для b0, b1, b2 не превышает 0.05 - это означает, что коэффициенты регрессии значимы\n",
        "\n",
        ">об этом же свидетельствует то, что доверительный интервал для коэффициентов регрессии ([0.025; 0.975]) не включает в себя точку 0\n",
        "\n",
        ">расчетный уровень значимости P>|t| для b3 превышает 0.05. Нулевая гипотеза не отвергается. b3 не является значимым.\n",
        "Нулевая гипотеза - коэффициет равен нулю, альтернативная - не равен.\n",
        "\n",
        "5. значение t для b3 очень мало (чем выше значение t, тем выше шанс, что мы отвергаем нулевую гипотезу).\n",
        "\n",
        "Также в таблице результатов содержится прочая информация по коэффициентам регрессии: стандартная ошибка Std.Err. "
      ],
      "metadata": {
        "id": "bLW-Ey-fniV6"
      }
    },
    {
      "cell_type": "markdown",
      "source": [
        "# Ваше задание\n",
        "Удаляем признаки, которые не являются значимыми, и повторяем обучение без них."
      ],
      "metadata": {
        "id": "3vc-DG5GJbsX"
      }
    },
    {
      "cell_type": "code",
      "source": [
        "df = df.drop(['Pi'], axis=1)\n",
        "target_col = 'Humidity'\n",
        "\n",
        "X = df.loc[:, df.columns != target_col]\n",
        "y = df.loc[:, target_col]\n",
        "\n",
        "X = (X - X.mean()) / X.std()\n",
        "\n",
        "X_train, X_test, y_train, y_test = train_test_split(X, y, \n",
        "                                                    test_size=0.80, \n",
        "                                                    random_state=42)\n",
        "\n",
        "X_with_constant = sm.add_constant(X_train)\n",
        "\n",
        "X_with_constant = X_with_constant.astype(np.float64)\n",
        "model = sm.OLS(y_train, X_with_constant)\n",
        "\n",
        "results = model.fit()\n",
        "print(results.params)\n",
        "df.head()\n",
        "print(results.summary())\n",
        "\n",
        "X_test = sm.add_constant(X_test)\n",
        "y_pred = results.predict(X_test)\n",
        "\n"
      ],
      "metadata": {
        "id": "1J80j2FVidaT",
        "colab": {
          "base_uri": "https://localhost:8080/"
        },
        "outputId": "5a79b863-5fc8-4a0b-b47e-2cfac6af8159"
      },
      "execution_count": null,
      "outputs": [
        {
          "output_type": "stream",
          "name": "stdout",
          "text": [
            "const          30.636567\n",
            "Device          2.213203\n",
            "Temperature    -5.964078\n",
            "time            0.459915\n",
            "dtype: float64\n",
            "                            OLS Regression Results                            \n",
            "==============================================================================\n",
            "Dep. Variable:               Humidity   R-squared:                       0.422\n",
            "Model:                            OLS   Adj. R-squared:                  0.421\n",
            "Method:                 Least Squares   F-statistic:                     493.9\n",
            "Date:                Mon, 05 Dec 2022   Prob (F-statistic):          5.23e-241\n",
            "Time:                        07:46:58   Log-Likelihood:                -7137.6\n",
            "No. Observations:                2036   AIC:                         1.428e+04\n",
            "Df Residuals:                    2032   BIC:                         1.431e+04\n",
            "Df Model:                           3                                         \n",
            "Covariance Type:            nonrobust                                         \n",
            "===============================================================================\n",
            "                  coef    std err          t      P>|t|      [0.025      0.975]\n",
            "-------------------------------------------------------------------------------\n",
            "const          30.6366      0.179    171.298      0.000      30.286      30.987\n",
            "Device          2.2132      0.198     11.185      0.000       1.825       2.601\n",
            "Temperature    -5.9641      0.253    -23.549      0.000      -6.461      -5.467\n",
            "time            0.4599      0.232      1.979      0.048       0.004       0.916\n",
            "==============================================================================\n",
            "Omnibus:                     1107.110   Durbin-Watson:                   2.036\n",
            "Prob(Omnibus):                  0.000   Jarque-Bera (JB):            19785.174\n",
            "Skew:                          -2.158   Prob(JB):                         0.00\n",
            "Kurtosis:                      17.649   Cond. No.                         2.43\n",
            "==============================================================================\n",
            "\n",
            "Notes:\n",
            "[1] Standard Errors assume that the covariance matrix of the errors is correctly specified.\n"
          ]
        },
        {
          "output_type": "stream",
          "name": "stderr",
          "text": [
            "/usr/local/lib/python3.8/dist-packages/statsmodels/tsa/tsatools.py:142: FutureWarning: In a future version of pandas all arguments of concat except for the argument 'objs' will be keyword-only\n",
            "  x = pd.concat(x[::order], 1)\n",
            "/usr/local/lib/python3.8/dist-packages/statsmodels/tsa/tsatools.py:142: FutureWarning: In a future version of pandas all arguments of concat except for the argument 'objs' will be keyword-only\n",
            "  x = pd.concat(x[::order], 1)\n"
          ]
        }
      ]
    },
    {
      "cell_type": "code",
      "source": [
        "residual = y_test - y_pred"
      ],
      "metadata": {
        "id": "zjRpUizzifH0"
      },
      "execution_count": null,
      "outputs": []
    },
    {
      "cell_type": "markdown",
      "source": [
        "# Предпосылки линейной регрессии\n",
        "Модель линейной регрессии можно построить не для любых данных, а только для данных, которые удовлетворяют ряду условий. И прежде, чем использовать регрессионное уравнение для прогнозирования, необходимо проверить выполнение этих условий. В ином случае наша модель не будет адекватна поставленной задаче, и ее использование будет бессмысленно."
      ],
      "metadata": {
        "id": "Bl78Zd_o_seD"
      }
    },
    {
      "cell_type": "markdown",
      "source": [
        "# Наличие линейной зависимости\n",
        "Первая и самая естественная предпосылка заключается в линейности модели. Под этим условием подразумевается корректность модели, выбор адекватных предикторов и отсутствие лишних предикторов. А также линейную зависимость целевой переменной от независимых переменных."
      ],
      "metadata": {
        "id": "4SqH0aX-EFIS"
      }
    },
    {
      "cell_type": "code",
      "source": [
        "sns.pairplot(df)"
      ],
      "metadata": {
        "id": "KTkSEBlbEKBj",
        "colab": {
          "base_uri": "https://localhost:8080/",
          "height": 743
        },
        "outputId": "f02e1c11-6ffe-4bc5-be64-4671fc69eb10"
      },
      "execution_count": null,
      "outputs": [
        {
          "output_type": "execute_result",
          "data": {
            "text/plain": [
              "<seaborn.axisgrid.PairGrid at 0x7fea71cb0070>"
            ]
          },
          "metadata": {},
          "execution_count": 15
        },
        {
          "output_type": "display_data",
          "data": {
            "text/plain": [
              "<Figure size 720x720 with 20 Axes>"
            ],
            "image/png": "[encoded data removed]"
          },
          "metadata": {
            "needs_background": "light"
          }
        }
      ]
    },
    {
      "cell_type": "markdown",
      "source": [
        "# Отсутствие мультиколлинеарности\n",
        "\n",
        "Мультиколлинеарностью называют явление, которое заключается в наличии линейной зависимости между независимыми переменными (предикторами). Такое может возникать, например, при использовании признаков с естественной взаимосвязью: стаж работы и возраст (как правило, чем больше возраст - тем больше стаж и наоборот), количество детских садов и количество школ в районе (обычно детские сады бывают при школе, так что эти количества пропорционально взаимосвязаны) или баллы за экзамены IELTS и TOEFL (так как они экзамены проверяют примерно одни и те же знания и навыки)\n",
        "\n",
        "Последствием мультиколлинеарности является расширение доверительных интервалов для коэффициентов, и модель получается очень неустойчивой и меняющейся от добавления даже 1-2 новых наблюдений. Разумеется, это не очень хорошая для нас ситуация, поэтому мы должны отбирать для модели только те предикторы, между которыми нет линейной связи.\n",
        "\n",
        "Для того чтобы проверить данную предпосылку, нам необходимо построить матрицу корреляций для всех потенциальных предикторов, и отследить наличие сильной корреляционной связи. Нет четкой границы, которая отделяет допустимую взаимосвязь и недопустимую, но в ряде источников используется граница в районе 0.9. То есть, если между предикторами коэффициент корреляции по модулю больше, чем 0.9, то мы не можем оба этих предиктора использовать для модели.\n",
        "\n",
        "Почитать:\n",
        "\n",
        "[wiki](https://ru.wikipedia.org/wiki/%D0%9C%D1%83%D0%BB%D1%8C%D1%82%D0%B8%D0%BA%D0%BE%D0%BB%D0%BB%D0%B8%D0%BD%D0%B5%D0%B0%D1%80%D0%BD%D0%BE%D1%81%D1%82%D1%8C#:~:text=%D0%9C%D1%83%D0%BB%D1%8C%D1%82%D0%B8%D0%BA%D0%BE%D0%BB%D0%BB%D0%B8%D0%BD%D0%B5%D0%B0%D1%80%D0%BD%D0%BE%D1%81%D1%82%D1%8C%20(multicollinearity)%20%E2%80%94%20%D0%B2%20%D1%8D%D0%BA%D0%BE%D0%BD%D0%BE%D0%BC%D0%B5%D1%82%D1%80%D0%B8%D0%BA%D0%B5,%D0%BD%D0%B0%D0%BB%D0%B8%D1%87%D0%B8%D0%B5%20%D1%81%D0%B8%D0%BB%D1%8C%D0%BD%D0%BE%D0%B9%20%D0%BA%D0%BE%D1%80%D1%80%D0%B5%D0%BB%D1%8F%D1%86%D0%B8%D0%B8%20%D0%BC%D0%B5%D0%B6%D0%B4%D1%83%20%D1%84%D0%B0%D0%BA%D1%82%D0%BE%D1%80%D0%B0%D0%BC%D0%B8)\n",
        "\n",
        "[статья](https://towardsdatascience.com/why-multicollinearity-isnt-an-issue-in-machine-learning-5c9aa2f1a83a)\n"
      ],
      "metadata": {
        "id": "2eUVI1VIinnU"
      }
    },
    {
      "cell_type": "code",
      "source": [
        "cols_num = [\"Device\",\n",
        "\"Humidity\",\n",
        "\"Temperature\",\n",
        "\"time\"]\n",
        "\n",
        "correlation = df.corr().loc[cols_num, cols_num]\n",
        "correlation"
      ],
      "metadata": {
        "id": "iUzegBllDsBn",
        "colab": {
          "base_uri": "https://localhost:8080/",
          "height": 175
        },
        "outputId": "a20a7fe6-b105-49c6-a502-5c3e5b6bb417"
      },
      "execution_count": null,
      "outputs": [
        {
          "output_type": "execute_result",
          "data": {
            "text/plain": [
              "               Device  Humidity  Temperature      time\n",
              "Device       1.000000  0.436451    -0.433898 -0.243409\n",
              "Humidity     0.436451  1.000000    -0.617857 -0.355701\n",
              "Temperature -0.433898 -0.617857     1.000000  0.642898\n",
              "time        -0.243409 -0.355701     0.642898  1.000000"
            ],
            "text/html": [
              "\n",
              "  <div id=\"df-7cc8e5e1-7b59-4284-b570-20d42b866204\">\n",
              "    <div class=\"colab-df-container\">\n",
              "      <div>\n",
              "<style scoped>\n",
              "    .dataframe tbody tr th:only-of-type {\n",
              "        vertical-align: middle;\n",
              "    }\n",
              "\n",
              "    .dataframe tbody tr th {\n",
              "        vertical-align: top;\n",
              "    }\n",
              "\n",
              "    .dataframe thead th {\n",
              "        text-align: right;\n",
              "    }\n",
              "</style>\n",
              "<table border=\"1\" class=\"dataframe\">\n",
              "  <thead>\n",
              "    <tr style=\"text-align: right;\">\n",
              "      <th></th>\n",
              "      <th>Device</th>\n",
              "      <th>Humidity</th>\n",
              "      <th>Temperature</th>\n",
              "      <th>time</th>\n",
              "    </tr>\n",
              "  </thead>\n",
              "  <tbody>\n",
              "    <tr>\n",
              "      <th>Device</th>\n",
              "      <td>1.000000</td>\n",
              "      <td>0.436451</td>\n",
              "      <td>-0.433898</td>\n",
              "      <td>-0.243409</td>\n",
              "    </tr>\n",
              "    <tr>\n",
              "      <th>Humidity</th>\n",
              "      <td>0.436451</td>\n",
              "      <td>1.000000</td>\n",
              "      <td>-0.617857</td>\n",
              "      <td>-0.355701</td>\n",
              "    </tr>\n",
              "    <tr>\n",
              "      <th>Temperature</th>\n",
              "      <td>-0.433898</td>\n",
              "      <td>-0.617857</td>\n",
              "      <td>1.000000</td>\n",
              "      <td>0.642898</td>\n",
              "    </tr>\n",
              "    <tr>\n",
              "      <th>time</th>\n",
              "      <td>-0.243409</td>\n",
              "      <td>-0.355701</td>\n",
              "      <td>0.642898</td>\n",
              "      <td>1.000000</td>\n",
              "    </tr>\n",
              "  </tbody>\n",
              "</table>\n",
              "</div>\n",
              "      <button class=\"colab-df-convert\" onclick=\"convertToInteractive('df-7cc8e5e1-7b59-4284-b570-20d42b866204')\"\n",
              "              title=\"Convert this dataframe to an interactive table.\"\n",
              "              style=\"display:none;\">\n",
              "        \n",
              "  <svg xmlns=\"http://www.w3.org/2000/svg\" height=\"24px\"viewBox=\"0 0 24 24\"\n",
              "       width=\"24px\">\n",
              "    <path d=\"M0 0h24v24H0V0z\" fill=\"none\"/>\n",
              "    <path d=\"M18.56 5.44l.94 2.06.94-2.06 2.06-.94-2.06-.94-.94-2.06-.94 2.06-2.06.94zm-11 1L8.5 8.5l.94-2.06 2.06-.94-2.06-.94L8.5 2.5l-.94 2.06-2.06.94zm10 10l.94 2.06.94-2.06 2.06-.94-2.06-.94-.94-2.06-.94 2.06-2.06.94z\"/><path d=\"M17.41 7.96l-1.37-1.37c-.4-.4-.92-.59-1.43-.59-.52 0-1.04.2-1.43.59L10.3 9.45l-7.72 7.72c-.78.78-.78 2.05 0 2.83L4 21.41c.39.39.9.59 1.41.59.51 0 1.02-.2 1.41-.59l7.78-7.78 2.81-2.81c.8-.78.8-2.07 0-2.86zM5.41 20L4 18.59l7.72-7.72 1.47 1.35L5.41 20z\"/>\n",
              "  </svg>\n",
              "      </button>\n",
              "      \n",
              "  <style>\n",
              "    .colab-df-container {\n",
              "      display:flex;\n",
              "      flex-wrap:wrap;\n",
              "      gap: 12px;\n",
              "    }\n",
              "\n",
              "    .colab-df-convert {\n",
              "      background-color: #E8F0FE;\n",
              "      border: none;\n",
              "      border-radius: 50%;\n",
              "      cursor: pointer;\n",
              "      display: none;\n",
              "      fill: #1967D2;\n",
              "      height: 32px;\n",
              "      padding: 0 0 0 0;\n",
              "      width: 32px;\n",
              "    }\n",
              "\n",
              "    .colab-df-convert:hover {\n",
              "      background-color: #E2EBFA;\n",
              "      box-shadow: 0px 1px 2px rgba(60, 64, 67, 0.3), 0px 1px 3px 1px rgba(60, 64, 67, 0.15);\n",
              "      fill: #174EA6;\n",
              "    }\n",
              "\n",
              "    [theme=dark] .colab-df-convert {\n",
              "      background-color: #3B4455;\n",
              "      fill: #D2E3FC;\n",
              "    }\n",
              "\n",
              "    [theme=dark] .colab-df-convert:hover {\n",
              "      background-color: #434B5C;\n",
              "      box-shadow: 0px 1px 3px 1px rgba(0, 0, 0, 0.15);\n",
              "      filter: drop-shadow(0px 1px 2px rgba(0, 0, 0, 0.3));\n",
              "      fill: #FFFFFF;\n",
              "    }\n",
              "  </style>\n",
              "\n",
              "      <script>\n",
              "        const buttonEl =\n",
              "          document.querySelector('#df-7cc8e5e1-7b59-4284-b570-20d42b866204 button.colab-df-convert');\n",
              "        buttonEl.style.display =\n",
              "          google.colab.kernel.accessAllowed ? 'block' : 'none';\n",
              "\n",
              "        async function convertToInteractive(key) {\n",
              "          const element = document.querySelector('#df-7cc8e5e1-7b59-4284-b570-20d42b866204');\n",
              "          const dataTable =\n",
              "            await google.colab.kernel.invokeFunction('convertToInteractive',\n",
              "                                                     [key], {});\n",
              "          if (!dataTable) return;\n",
              "\n",
              "          const docLinkHtml = 'Like what you see? Visit the ' +\n",
              "            '<a target=\"_blank\" href=https://colab.research.google.com/notebooks/data_table.ipynb>data table notebook</a>'\n",
              "            + ' to learn more about interactive tables.';\n",
              "          element.innerHTML = '';\n",
              "          dataTable['output_type'] = 'display_data';\n",
              "          await google.colab.output.renderOutput(dataTable, element);\n",
              "          const docLink = document.createElement('div');\n",
              "          docLink.innerHTML = docLinkHtml;\n",
              "          element.appendChild(docLink);\n",
              "        }\n",
              "      </script>\n",
              "    </div>\n",
              "  </div>\n",
              "  "
            ]
          },
          "metadata": {},
          "execution_count": 16
        }
      ]
    },
    {
      "cell_type": "code",
      "source": [
        "\n",
        "fig , ax = plt.subplots(figsize = (14,12))\n",
        "\n",
        "sns.heatmap(correlation, \n",
        "            linewidths=0.5, annot=True,cmap='viridis',\n",
        "            linecolor=\"white\", annot_kws = {'size':12})"
      ],
      "metadata": {
        "id": "kaYA6UAoD1wa",
        "colab": {
          "base_uri": "https://localhost:8080/",
          "height": 721
        },
        "outputId": "03e78c3a-83d8-4e52-c69a-93fba5ee9db9"
      },
      "execution_count": null,
      "outputs": [
        {
          "output_type": "execute_result",
          "data": {
            "text/plain": [
              "<matplotlib.axes._subplots.AxesSubplot at 0x7fea7177fb20>"
            ]
          },
          "metadata": {},
          "execution_count": 17
        },
        {
          "output_type": "display_data",
          "data": {
            "text/plain": [
              "<Figure size 1008x864 with 2 Axes>"
            ],
            "image/png": "[encoded data removed]"
          },
          "metadata": {
            "needs_background": "light"
          }
        }
      ]
    },
    {
      "cell_type": "code",
      "source": [
        "vif = [variance_inflation_factor(X_train.values, i) for i in range(X_train.shape[1])]\n",
        "pd.DataFrame({'vif': vif[0:]}, index=X_train.columns).T"
      ],
      "metadata": {
        "id": "WCcSlRCgP6FG",
        "colab": {
          "base_uri": "https://localhost:8080/",
          "height": 81
        },
        "outputId": "0218ae66-c092-495a-834c-035b890aad50"
      },
      "execution_count": null,
      "outputs": [
        {
          "output_type": "execute_result",
          "data": {
            "text/plain": [
              "       Device  Temperature      time\n",
              "vif  1.226834     1.977345  1.708495"
            ],
            "text/html": [
              "\n",
              "  <div id=\"df-35147009-86ef-4831-afdd-4f091dabe4f6\">\n",
              "    <div class=\"colab-df-container\">\n",
              "      <div>\n",
              "<style scoped>\n",
              "    .dataframe tbody tr th:only-of-type {\n",
              "        vertical-align: middle;\n",
              "    }\n",
              "\n",
              "    .dataframe tbody tr th {\n",
              "        vertical-align: top;\n",
              "    }\n",
              "\n",
              "    .dataframe thead th {\n",
              "        text-align: right;\n",
              "    }\n",
              "</style>\n",
              "<table border=\"1\" class=\"dataframe\">\n",
              "  <thead>\n",
              "    <tr style=\"text-align: right;\">\n",
              "      <th></th>\n",
              "      <th>Device</th>\n",
              "      <th>Temperature</th>\n",
              "      <th>time</th>\n",
              "    </tr>\n",
              "  </thead>\n",
              "  <tbody>\n",
              "    <tr>\n",
              "      <th>vif</th>\n",
              "      <td>1.226834</td>\n",
              "      <td>1.977345</td>\n",
              "      <td>1.708495</td>\n",
              "    </tr>\n",
              "  </tbody>\n",
              "</table>\n",
              "</div>\n",
              "      <button class=\"colab-df-convert\" onclick=\"convertToInteractive('df-35147009-86ef-4831-afdd-4f091dabe4f6')\"\n",
              "              title=\"Convert this dataframe to an interactive table.\"\n",
              "              style=\"display:none;\">\n",
              "        \n",
              "  <svg xmlns=\"http://www.w3.org/2000/svg\" height=\"24px\"viewBox=\"0 0 24 24\"\n",
              "       width=\"24px\">\n",
              "    <path d=\"M0 0h24v24H0V0z\" fill=\"none\"/>\n",
              "    <path d=\"M18.56 5.44l.94 2.06.94-2.06 2.06-.94-2.06-.94-.94-2.06-.94 2.06-2.06.94zm-11 1L8.5 8.5l.94-2.06 2.06-.94-2.06-.94L8.5 2.5l-.94 2.06-2.06.94zm10 10l.94 2.06.94-2.06 2.06-.94-2.06-.94-.94-2.06-.94 2.06-2.06.94z\"/><path d=\"M17.41 7.96l-1.37-1.37c-.4-.4-.92-.59-1.43-.59-.52 0-1.04.2-1.43.59L10.3 9.45l-7.72 7.72c-.78.78-.78 2.05 0 2.83L4 21.41c.39.39.9.59 1.41.59.51 0 1.02-.2 1.41-.59l7.78-7.78 2.81-2.81c.8-.78.8-2.07 0-2.86zM5.41 20L4 18.59l7.72-7.72 1.47 1.35L5.41 20z\"/>\n",
              "  </svg>\n",
              "      </button>\n",
              "      \n",
              "  <style>\n",
              "    .colab-df-container {\n",
              "      display:flex;\n",
              "      flex-wrap:wrap;\n",
              "      gap: 12px;\n",
              "    }\n",
              "\n",
              "    .colab-df-convert {\n",
              "      background-color: #E8F0FE;\n",
              "      border: none;\n",
              "      border-radius: 50%;\n",
              "      cursor: pointer;\n",
              "      display: none;\n",
              "      fill: #1967D2;\n",
              "      height: 32px;\n",
              "      padding: 0 0 0 0;\n",
              "      width: 32px;\n",
              "    }\n",
              "\n",
              "    .colab-df-convert:hover {\n",
              "      background-color: #E2EBFA;\n",
              "      box-shadow: 0px 1px 2px rgba(60, 64, 67, 0.3), 0px 1px 3px 1px rgba(60, 64, 67, 0.15);\n",
              "      fill: #174EA6;\n",
              "    }\n",
              "\n",
              "    [theme=dark] .colab-df-convert {\n",
              "      background-color: #3B4455;\n",
              "      fill: #D2E3FC;\n",
              "    }\n",
              "\n",
              "    [theme=dark] .colab-df-convert:hover {\n",
              "      background-color: #434B5C;\n",
              "      box-shadow: 0px 1px 3px 1px rgba(0, 0, 0, 0.15);\n",
              "      filter: drop-shadow(0px 1px 2px rgba(0, 0, 0, 0.3));\n",
              "      fill: #FFFFFF;\n",
              "    }\n",
              "  </style>\n",
              "\n",
              "      <script>\n",
              "        const buttonEl =\n",
              "          document.querySelector('#df-35147009-86ef-4831-afdd-4f091dabe4f6 button.colab-df-convert');\n",
              "        buttonEl.style.display =\n",
              "          google.colab.kernel.accessAllowed ? 'block' : 'none';\n",
              "\n",
              "        async function convertToInteractive(key) {\n",
              "          const element = document.querySelector('#df-35147009-86ef-4831-afdd-4f091dabe4f6');\n",
              "          const dataTable =\n",
              "            await google.colab.kernel.invokeFunction('convertToInteractive',\n",
              "                                                     [key], {});\n",
              "          if (!dataTable) return;\n",
              "\n",
              "          const docLinkHtml = 'Like what you see? Visit the ' +\n",
              "            '<a target=\"_blank\" href=https://colab.research.google.com/notebooks/data_table.ipynb>data table notebook</a>'\n",
              "            + ' to learn more about interactive tables.';\n",
              "          element.innerHTML = '';\n",
              "          dataTable['output_type'] = 'display_data';\n",
              "          await google.colab.output.renderOutput(dataTable, element);\n",
              "          const docLink = document.createElement('div');\n",
              "          docLink.innerHTML = docLinkHtml;\n",
              "          element.appendChild(docLink);\n",
              "        }\n",
              "      </script>\n",
              "    </div>\n",
              "  </div>\n",
              "  "
            ]
          },
          "metadata": {},
          "execution_count": 18
        }
      ]
    },
    {
      "cell_type": "markdown",
      "source": [
        "# Нормальное распределение ошибок\n",
        "После того как мы построили модель регрессии, мы можем вычислить ошибки (остатки): разницы между реальным значением $y$ и предсказанным $\\hat{y}$. Важным условием является нормальность распределения этих ошибок. То есть, распределение остатков должно стремиться к нормальному распределению. Проверить выполняемость этого условия можно визуально с помощью гистограммы или с помощью специальных статистических тестов.\n",
        "\n",
        "В целом, такое условие связано не напрямую с остатками, а с тем, что зависимая переменная должна быть распределена нормально для любых значений х. Однако такое условие проверить довольно сложно, поэтому можно проверить такое условие с помощью анализа распределения остатков."
      ],
      "metadata": {
        "id": "Lv9TKOyzjIGo"
      }
    },
    {
      "cell_type": "code",
      "source": [
        "sns.histplot(residual, kde=True, stat=\"density\", linewidth=0)"
      ],
      "metadata": {
        "id": "RdtFAOSEi0Kd",
        "colab": {
          "base_uri": "https://localhost:8080/",
          "height": 282
        },
        "outputId": "9ac6591a-4568-4fee-e695-b5706a5e7514"
      },
      "execution_count": null,
      "outputs": [
        {
          "output_type": "execute_result",
          "data": {
            "text/plain": [
              "<matplotlib.axes._subplots.AxesSubplot at 0x7fea7177f400>"
            ]
          },
          "metadata": {},
          "execution_count": 19
        },
        {
          "output_type": "display_data",
          "data": {
            "text/plain": [
              "<Figure size 432x288 with 1 Axes>"
            ],
            "image/png": "[encoded data removed]"
          },
          "metadata": {
            "needs_background": "light"
          }
        }
      ]
    },
    {
      "cell_type": "code",
      "source": [
        "fig, ax = plt.subplots(figsize=(6,2.5))\n",
        "_, (__, ___, r) = sp.stats.probplot(residual, plot=ax, fit=True)"
      ],
      "metadata": {
        "id": "MvXQ6SQXj3_k",
        "colab": {
          "base_uri": "https://localhost:8080/",
          "height": 214
        },
        "outputId": "8755a55d-ee53-403b-f48b-b58137948801"
      },
      "execution_count": null,
      "outputs": [
        {
          "output_type": "display_data",
          "data": {
            "text/plain": [
              "<Figure size 432x180 with 1 Axes>"
            ],
            "image/png": "[encoded data removed]"
          },
          "metadata": {
            "needs_background": "light"
          }
        }
      ]
    },
    {
      "cell_type": "code",
      "source": [
        "np.mean(residual)"
      ],
      "metadata": {
        "id": "TSeQ7yiEj6hI",
        "colab": {
          "base_uri": "https://localhost:8080/"
        },
        "outputId": "984f396d-3771-4945-e350-88b7f3561f83"
      },
      "execution_count": null,
      "outputs": [
        {
          "output_type": "execute_result",
          "data": {
            "text/plain": [
              "-0.05297443723378002"
            ]
          },
          "metadata": {},
          "execution_count": 21
        }
      ]
    },
    {
      "cell_type": "markdown",
      "source": [
        "# Гомоскедантичность \n",
        "Гомоскедастичность ошибок заключается в том, что разброс остатков при любых значениях независимых переменных одинаковый. Предположим, что мы хотим предсказать стоимость квартиры по каким-то ее признакам. Если для квартир площадью 30-50 метров разброс ошибок будет маленький, а для квартир, площадью 50-70 метров разброс ошибок будет очень большой, то мы будем иметь дело с гетероскедастичностью. Такая ситуация нас не устраивает. Нам важно, чтобы качество модели было одно и то же при любых значениях независимой переменной.\n",
        "\n",
        "[wiki](https://ru.wikipedia.org/wiki/%D0%93%D0%BE%D0%BC%D0%BE%D1%81%D0%BA%D0%B5%D0%B4%D0%B0%D1%81%D1%82%D0%B8%D1%87%D0%BD%D0%BE%D1%81%D1%82%D1%8C)"
      ],
      "metadata": {
        "id": "2z7c7fmZj-HK"
      }
    },
    {
      "cell_type": "code",
      "source": [
        "fig, ax = plt.subplots(figsize=(6,2.5))\n",
        "_ = ax.scatter(y_pred, residual)"
      ],
      "metadata": {
        "id": "Ef7jHuknj-4r",
        "colab": {
          "base_uri": "https://localhost:8080/",
          "height": 184
        },
        "outputId": "643b04b3-b58c-4ef0-a561-58c703b87f7f"
      },
      "execution_count": null,
      "outputs": [
        {
          "output_type": "display_data",
          "data": {
            "text/plain": [
              "<Figure size 432x180 with 1 Axes>"
            ],
            "image/png": "[encoded data removed]"
          },
          "metadata": {
            "needs_background": "light"
          }
        }
      ]
    },
    {
      "cell_type": "markdown",
      "source": [
        "# Отсутствие автокорреляции остатков\n",
        "Автокорреляция остатков (ошибок) возникает в ситуации, когда есть линейная взаимосвязь между остатками для одних значений предикторов и остатками для других значений предикторов. Такое может проявляться в силу естественных причин, как и в случае сс мультиколлинеарностью. Например, если мы предсказываем какие-то показатели для соседних регионов страны, то, скорее всего, они будут сильно взаимосвязаны просто в силу схожести характеристик этих объектов.\n",
        "\n",
        "Автокорреляция влечет за собой некорректные результаты. Стандартные ошибки получаются несостоятельными, и мы не можем строить корректные доверительные интервалы и проверять гипотезы классическими способами.\n",
        "\n",
        "[wiki](https://ru.wikipedia.org/wiki/%D0%90%D0%B2%D1%82%D0%BE%D0%BA%D0%BE%D1%80%D1%80%D0%B5%D0%BB%D1%8F%D1%86%D0%B8%D0%BE%D0%BD%D0%BD%D0%B0%D1%8F_%D1%84%D1%83%D0%BD%D0%BA%D1%86%D0%B8%D1%8F)"
      ],
      "metadata": {
        "id": "XWs7ghcBkfgD"
      }
    },
    {
      "cell_type": "code",
      "source": [
        "acf = smt.graphics.plot_acf(residual, lags=40 , alpha=0.05)\n",
        "acf.show()"
      ],
      "metadata": {
        "id": "XZevRlLLkews",
        "colab": {
          "base_uri": "https://localhost:8080/",
          "height": 281
        },
        "outputId": "0db8cd18-4be6-4ce0-deab-effebdbacdd8"
      },
      "execution_count": null,
      "outputs": [
        {
          "output_type": "display_data",
          "data": {
            "text/plain": [
              "<Figure size 432x288 with 1 Axes>"
            ],
            "image/png": "[encoded data removed]"
          },
          "metadata": {
            "needs_background": "light"
          }
        }
      ]
    },
    {
      "cell_type": "markdown",
      "source": [
        "\n",
        "## Матрицами ([статья](https://habr.com/en/post/479398/))\n",
        "\n",
        "## $\\beta^* = (X^T \\cdot X)^{-1}\\cdot X^T \\cdot Y$\n",
        "\n"
      ],
      "metadata": {
        "id": "N_eu2jr_0ZNH"
      }
    },
    {
      "cell_type": "code",
      "source": [
        "from numpy.linalg import matrix_power\n",
        "from sklearn.linear_model import LinearRegression\n",
        "from sklearn.metrics import mean_squared_error, r2_score\n",
        "\n",
        "\n",
        "X_test = sm.add_constant(X_test)\n",
        "X_train = sm.add_constant(X_train)\n",
        "\n",
        "b = (matrix_power(X_train.transpose().dot(X_train), -1)).dot(X_train.transpose()).dot(y_train)\n",
        "\n",
        "print('Matrix Coefficients: \\n', b)\n",
        "\n",
        "y_pred = np.dot(X_test, b.T)\n",
        "\n",
        "\n",
        "print('Matrix Mean squared error: %.2f'\n",
        "        % mean_squared_error(y_test, y_pred))\n",
        "\n",
        "print('Matrix Coefficient of determination: %.2f'\n",
        "        % r2_score(y_test, y_pred))\n"
      ],
      "metadata": {
        "id": "4Y5F-MCi0fNI",
        "colab": {
          "base_uri": "https://localhost:8080/"
        },
        "outputId": "9a63b7a6-7345-41c6-dba7-cf3f8ed966fb"
      },
      "execution_count": null,
      "outputs": [
        {
          "output_type": "stream",
          "name": "stdout",
          "text": [
            "Matrix Coefficients: \n",
            " [30.63656745  2.21320292 -5.96407795  0.45991537]\n",
            "Matrix Mean squared error: 66.71\n",
            "Matrix Coefficient of determination: 0.42\n"
          ]
        },
        {
          "output_type": "stream",
          "name": "stderr",
          "text": [
            "/usr/local/lib/python3.8/dist-packages/statsmodels/tsa/tsatools.py:142: FutureWarning: In a future version of pandas all arguments of concat except for the argument 'objs' will be keyword-only\n",
            "  x = pd.concat(x[::order], 1)\n"
          ]
        }
      ]
    },
    {
      "cell_type": "markdown",
      "source": [
        "## Градиентным спуском  ([статья](https://habr.com/en/post/474602/))\n",
        "\n",
        "Инициализируем случайную точку (часто берут просто нули):\n",
        "\n",
        "$$\n",
        "\\beta_0 = (0\\;\\; 0 ...)\n",
        "$$\n",
        "\n",
        "Итеративно скачем по линиям уровня нашей функции, шагая каждый раз в сторону антиградиента с корректировкой шага $\\eta_k$:\n",
        "\n",
        "$$\n",
        "\\beta_{k+1} = \\beta_k - \\eta_{k}\\cdot\\nabla Q(\\beta_k, X)\n",
        "$$\n",
        " \n",
        "Останавливаемся, когда срабатывает критерий останова. Например:\n",
        "\n",
        "$$\n",
        "|\\beta_{k+1} - \\beta_k| < \\xi\n",
        "$$\n",
        "\n",
        "Пусть имеем 3 объекта $(X, Y)^i$ = $\\left((d_i, 1), Y_i \\right)$ с 3 признаками $d_1$, $d_2$ (+ константа). Хотим оценить обычную линейную модель:\n",
        "\n",
        "$$\n",
        "a(x) = \\beta_1 \\cdot d_1 + \\beta_2 \\cdot d_2 + \\beta_0\n",
        "$$\n",
        "\n",
        "Тогда функционал ошибки как среднеквадратическая ошибка на нашей выборке выглядит следующим образом:\n",
        "\n",
        "$$\n",
        "Q(a, X) = \\frac{1}{N}\\cdot\\sum_{i=1}^N (\\beta_1 \\cdot d_{i1} + \\beta_2 \\cdot d_{i2} + \\beta_0 - y_i)^2\n",
        "$$\n",
        "\n",
        "Посчитаем вектор-градиент по всем оцениваемым параметрам:\n",
        "\n",
        "$$\n",
        "\\nabla Q(a, X) = (Q'_{\\beta_1} \\;\\;\\; Q'_{\\beta_2} \\;\\;\\; Q'_{\\beta_0})\n",
        "$$\n",
        "\n",
        "Пример расчета производной по параметру у признака номер 1:\n",
        "\n",
        "$$\n",
        "Q'_{\\beta_1} = \\frac{2}{N} \\cdot \\sum_{i=1}^N d_{i1} \\cdot (\\beta_1 \\cdot d_{i1} + \\beta_2 \\cdot d_{i2} + \\beta_0 - y_i)\n",
        "$$"
      ],
      "metadata": {
        "id": "ucYDZTHx0cPC"
      }
    },
    {
      "cell_type": "code",
      "source": [
        "from sklearn.linear_model import SGDRegressor\n",
        "from sklearn.metrics import mean_squared_error\n",
        "\n",
        "\n",
        "sgd_reg = SGDRegressor(max_iter=1000, tol=1e-3, penalty=None, eta0=0.1)\n",
        "sgd_reg.fit(X_train, y_train)\n",
        "\n",
        "print('Coefficients: \\n', sgd_reg.coef_)\n",
        "\n",
        "\n",
        "y_pred = sgd_reg.predict(X_test)\n",
        "\n",
        "mse = mean_squared_error(y_test, y_pred)\n",
        "rmse = np.sqrt(mse)\n",
        "\n",
        "print(f'MSE: {mse}', f'RMSE: {rmse}')\n",
        "print('Coefficient of determination: %.2f' % r2_score(y_test, y_pred))\n",
        "\n"
      ],
      "metadata": {
        "id": "O8dfFwPUYKb5",
        "colab": {
          "base_uri": "https://localhost:8080/"
        },
        "outputId": "c01219ce-2479-4ce7-9254-6d7e59066402"
      },
      "execution_count": null,
      "outputs": [
        {
          "output_type": "stream",
          "name": "stdout",
          "text": [
            "Coefficients: \n",
            " [15.30262374  1.55246177 -8.96282252  1.23755576]\n",
            "MSE: 72.2411280346766 RMSE: 8.499478103664755\n",
            "Coefficient of determination: 0.37\n"
          ]
        }
      ]
    },
    {
      "cell_type": "markdown",
      "source": [
        "### Results\n",
        "\n",
        "|             | OLS       | Clear OLS | Scikit OLS | GD         |\n",
        "| ---         | ---       | ---       | ---        | ---        |\n",
        "| const       | -196.8659 | 30.6366   | 30.63656745| 15.3026237\t|\n",
        "| Device      | 0.1398    | 2.2132    | 2.21320292 | 3.19290207 |\n",
        "| Temperature | -0.6249   | -5.9641   | -5.96407795| -5.57987588| \n",
        "| time        | 1.616e-07 | 0.4599    | 0.45991537 | -0.51287222|\n"
      ],
      "metadata": {
        "id": "eUqLL85u8wDF"
      }
    },
    {
      "cell_type": "markdown",
      "source": [
        "Решил проблему мультиколлинеарности в results.summary())\n",
        "\n",
        "С помощью матричного метода удалось найти коэффициенты сильно приближенные к идеальным\n",
        "\n",
        "Градиентным спуском с помощью SGDRegressor удалось найти верный коэффциент наклона линии регрессии\n"
      ],
      "metadata": {
        "id": "o63p_NduPK4Z"
      }
    },
    {
      "cell_type": "markdown",
      "source": [
        "# По материалам\n",
        "1. https://github.com/bhattbhavesh91/linear-regression-assumptions\n",
        "2. https://towardsdatascience.com/assumptions-of-linear-regression-fdb71ebeaa8b\n",
        "3. https://habr.com/en/post/690414/\n",
        "4. Еще каких-то хороших людей"
      ],
      "metadata": {
        "id": "X1IhiyYgPKpu"
      }
    }
  ]
}